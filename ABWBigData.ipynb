{
 "cells": [
  {
   "cell_type": "code",
   "execution_count": 1,
   "metadata": {},
   "outputs": [
    {
     "name": "stderr",
     "output_type": "stream",
     "text": [
      "D:\\Anaconda3\\envs\\dlwin36\\lib\\site-packages\\sklearn\\cross_validation.py:44: DeprecationWarning: This module was deprecated in version 0.18 in favor of the model_selection module into which all the refactored classes and functions are moved. Also note that the interface of the new CV iterators are different from that of this module. This module will be removed in 0.20.\n",
      "  \"This module will be removed in 0.20.\", DeprecationWarning)\n"
     ]
    }
   ],
   "source": [
    "from driver.MongoDriver import MongoDriver\n",
    "import util.Constants as const\n",
    "from service.DataPreparationHandler import get_data\n",
    "from util.PandasUtils import PandasUtils\n",
    "import DisplayHelper\n",
    "from DisplayHelper import *\n",
    "from pprint import PrettyPrinter\n",
    "from util.DataPreparationUtils import *\n",
    "from stubutils.StubUtils import open_file\n",
    "import pandas\n",
    "from datetime import datetime\n",
    "from scipy import stats\n",
    "from sklearn import preprocessing\n",
    "from sklearn.metrics import accuracy_score\n",
    "from sklearn.ensemble import RandomForestClassifier as rfc\n",
    "from sklearn.preprocessing import OneHotEncoder as ohe\n",
    "import xgboost as xgb"
   ]
  },
  {
   "cell_type": "code",
   "execution_count": 2,
   "metadata": {
    "collapsed": true
   },
   "outputs": [],
   "source": [
    "%matplotlib inline\n",
    "mpl.style.use( 'ggplot' )\n",
    "sns.set_style( 'white' )\n",
    "pylab.rcParams[ 'figure.figsize' ] = 8 , 6"
   ]
  },
  {
   "cell_type": "code",
   "execution_count": 5,
   "metadata": {},
   "outputs": [],
   "source": [
    "db_instance = MongoDriver.get_instance().get_db_instance(const.DB_INSTANCE)\n",
    "data = get_data(db_instance, 'normalized_data')\n",
    "dataframe = PandasUtils.get_dataframe(data, const.JSON_STRUCTURE)"
   ]
  },
  {
   "cell_type": "code",
   "execution_count": 6,
   "metadata": {
    "collapsed": true
   },
   "outputs": [],
   "source": [
    "#Create delta columns for fields \"from\" and \"to\"\n",
    "dataframe['search_volume'] = (dataframe['search_volume_to'] + dataframe['search_volume_from'])/2\n",
    "dataframe['search_milleage'] = (dataframe['search_milleage_to'] + dataframe['search_milleage_from'])/2\n",
    "dataframe['search_price'] = (dataframe['search_price_to'] + dataframe['search_price_from'])/2\n",
    "dataframe['search_year'] = (dataframe['search_year_to'] + dataframe['search_year_from'])/2"
   ]
  },
  {
   "cell_type": "code",
   "execution_count": 7,
   "metadata": {},
   "outputs": [],
   "source": [
    "for column in const.NUMERIC_COLUMNS_REQUIRE_ANALYSIS:\n",
    "        quartiles = get_percentiles_for_numeric_column(dataframe,column)\n",
    "        dataframe.loc[ dataframe[column] <= quartiles['values'][1], column] = 0\n",
    "        dataframe.loc[(dataframe[column] > quartiles['values'][1]) & (dataframe[column] <= quartiles['values'][2]), column] = 1\n",
    "        dataframe.loc[(dataframe[column] > quartiles['values'][2]) & (dataframe[column] <= quartiles['values'][3]), column]   = 2\n",
    "        dataframe.loc[ dataframe[column] > quartiles['values'][3], column] = 3\n",
    "        dataframe[column] = dataframe[column].astype(int)"
   ]
  },
  {
   "cell_type": "code",
   "execution_count": 6,
   "metadata": {
    "collapsed": true
   },
   "outputs": [],
   "source": [
    "dataframe['search_model'] = dataframe.apply(lambda row: get_id_by_make_name(row['search_model']),axis=1).astype(int)\n",
    "dataframe['search_rigion'] = dataframe.apply(lambda row: get_id_by_region_name(row['search_rigion']),axis=1).astype(int)\n",
    "dataframe['search_city'] = dataframe.apply(lambda row: get_id_by_city_name(row['search_city']),axis=1).astype(int)\n",
    "dataframe['search_country'] = dataframe.apply(lambda row: get_id_by_name_simple(const.COUNTRY_ID_MAPPING_JSON_ROUTE, row['search_country']),axis=1).astype(int)\n",
    "dataframe['search_marka'] = dataframe.apply(lambda row: get_id_by_name_simple(const.MODELS_ID_MAPPING_JSON_ROUTE, row['search_marka']),axis=1).astype(int)\n",
    "dataframe['search_wheel'] = dataframe.apply(lambda row: get_id_by_name_simple(const.WHEELS_ID_MAPPING_JSON_ROUTE, row['search_wheel']),axis=1).astype(int)\n",
    "dataframe['search_body'] = dataframe.apply(lambda row: get_id_by_name_simple(const.BODIES_ID_MAPPING_JSON_ROUTE, row['search_body']),axis=1).astype(int)\n",
    "dataframe['search_transmission'] = dataframe.apply(lambda row: get_id_by_name_simple(const.TRANSMISSIONS_ID_MAPPING_JSON_ROUTE, row['search_transmission']),axis=1).astype(int)"
   ]
  },
  {
   "cell_type": "code",
   "execution_count": 8,
   "metadata": {
    "collapsed": true
   },
   "outputs": [],
   "source": [
    "for column_name in const.DATE_COLUMNS:\n",
    "        dataframe[column_name] = dataframe.apply(lambda row: get_season_by_utcdate(row[column_name]),axis=1)"
   ]
  },
  {
   "cell_type": "code",
   "execution_count": 9,
   "metadata": {
    "collapsed": true
   },
   "outputs": [],
   "source": [
    "#Drop unhandled columns\n",
    "for column in const.COLUMNS_TO_DROP:\n",
    "    dataframe = dataframe.drop(column, axis=1)\n",
    "    \n",
    "# dataframe = dataframe.drop(\"search_city\", axis=1)\n",
    "#dataframe = dataframe.drop(\"search_rigion\", axis=1)\n",
    "dataframe = dataframe.drop(\"search_model\", axis=1)\n",
    "#dataframe = dataframe.drop(\"search_year\", axis=1)\n",
    "#dataframe = dataframe.drop(\"search_volume\", axis=1)\n",
    "#dataframe = dataframe.drop(\"search_milleage\", axis=1)\n",
    "#dataframe = dataframe.drop(\"search_price\", axis=1)\n",
    "#dataframe = dataframe.drop(\"search_year\", axis=1)"
   ]
  },
  {
   "cell_type": "code",
   "execution_count": 10,
   "metadata": {
    "collapsed": true
   },
   "outputs": [],
   "source": [
    "dataframe[\"a\"] = dataframe.apply(lambda row: (row['search_volume'] + 1)/(row['search_milleage']+1),axis=1).astype(int)\n",
    "dataframe[\"b\"] = dataframe.apply(lambda row: (row['search_volume'] + 1)/(row['search_price']+1),axis=1).astype(int)\n",
    "dataframe[\"c\"] = dataframe.apply(lambda row: (row['search_volume'] + 1)/(row['search_year']+1),axis=1).astype(int)\n",
    "dataframe[\"d\"] = dataframe.apply(lambda row: (row['search_milleage'] + 1)/(row['search_volume']+1),axis=1).astype(int)\n",
    "dataframe[\"f\"] = dataframe.apply(lambda row: (row['search_milleage'] + 1)/(row['search_price']+1),axis=1).astype(int)\n",
    "dataframe[\"e\"] = dataframe.apply(lambda row: (row['search_milleage'] + 1)/(row['search_year']+1),axis=1).astype(int)"
   ]
  },
  {
   "cell_type": "code",
   "execution_count": 10,
   "metadata": {
    "collapsed": true
   },
   "outputs": [],
   "source": [
    "X_data = dataframe.drop(\"search_marka\", axis=1)          # data: Features\n",
    "Y_data = dataframe[\"search_marka\"]                       # data: Labels\n",
    "for f in X_data.columns: \n",
    "    if X_data[f].dtype=='object': \n",
    "        lbl = preprocessing.LabelEncoder() \n",
    "        lbl.fit(list(X_data[f].values)) \n",
    "        X_data[f] = lbl.transform(list(X_data[f].values))\n",
    "#split data into random \"train\" and \"test\" set \n",
    "X_train, X_test, Y_train, Y_test = train_test_split(X_data, Y_data, test_size=0.2, random_state=0)\n",
    "X_train = X_train.drop('user_id', axis=1)"
   ]
  },
  {
   "cell_type": "code",
   "execution_count": null,
   "metadata": {},
   "outputs": [],
   "source": [
    "X_test_ref = X_test.drop('user_id', axis=1)\n",
    "xg_train = xgb.DMatrix(X_train, label=Y_train)\n",
    "xg_test = xgb.DMatrix(X_test_ref, label=Y_test)\n",
    "# setup parameters for xgboost\n",
    "param = {}\n",
    "# use softmax multi-class classification\n",
    "param['objective'] = 'multi:softmax'\n",
    "# scale weight of positive examples\n",
    "param['eta'] = 0.1\n",
    "param['max_depth'] = 4\n",
    "param['silent'] = 1\n",
    "param['nthread'] = 4\n",
    "param['subsample'] = 0.6\n",
    "# param['min_child_weight'] = 100\n",
    "param['num_class'] = 150\n",
    "\n",
    "res = xgb.cv(param, xg_train, nfold = 5, num_boost_round = 100, stratified = True, verbose_eval = True)"
   ]
  },
  {
   "cell_type": "code",
   "execution_count": null,
   "metadata": {},
   "outputs": [],
   "source": [
    "X_test_ref = X_test.drop('user_id', axis=1)\n",
    "xg_train = xgb.DMatrix(X_train, label=Y_train)\n",
    "xg_test = xgb.DMatrix(X_test_ref, label=Y_test)\n",
    "# setup parameters for xgboost\n",
    "param = {}\n",
    "# use softmax multi-class classification\n",
    "param['objective'] = 'multi:softmax'\n",
    "# scale weight of positive examples\n",
    "param['eta'] = 0.1\n",
    "param['max_depth'] = 4\n",
    "param['silent'] = 1\n",
    "param['nthread'] = 4\n",
    "param['num_class'] = 150\n",
    "watchlist = [(xg_train, 'train'), (xg_test, 'test')]\n",
    "num_round = 3000\n",
    "bst = xgb.train(param, xg_train, num_round, watchlist)\n",
    "# get prediction\n",
    "pred = bst.predict(xg_test, ntree_limit=bst.best_iteration)\n",
    "# error_rate = np.sum(pred != Y_test) / Y_test.shape[0]\n",
    "print('Accuracy score = {}'.format(accuracy_score(Y_test, pred)))"
   ]
  },
  {
   "cell_type": "code",
   "execution_count": 18,
   "metadata": {},
   "outputs": [
    {
     "name": "stdout",
     "output_type": "stream",
     "text": [
      "training finished in 331 seconds\n"
     ]
    },
    {
     "data": {
      "text/plain": [
       "0.016666666666666666"
      ]
     },
     "execution_count": 18,
     "metadata": {},
     "output_type": "execute_result"
    }
   ],
   "source": [
    "import xgboost as xgb\n",
    "param_dist = {'n_estimators':7, 'nthread':22, 'max_depth':7}\n",
    "xg = xgb.XGBClassifier()\n",
    "d1 = datetime.now()\n",
    "X_train, X_test, Y_train, Y_test = train_test_split(X_data, Y_data, test_size=0.2, random_state=0)\n",
    "X_train = X_train.drop('user_id', axis=1)\n",
    "for i in range(1,60):\n",
    "    X_inner_train, X_inner_test, Y_inner_train, Y_inner_test = train_test_split(X_data, Y_data, test_size=0.2, random_state=0)\n",
    "    X_inner_train = X_inner_train.drop('user_id', axis=1)\n",
    "    xg.fit(X_inner_train, Y_inner_train, verbose=True)\n",
    "d2 = datetime.now()\n",
    "delta = d2 - d1\n",
    "print \"training finished in \" + str(delta.seconds) + \" seconds\"\n",
    "X_test_ref = X_test.drop('user_id', axis=1)\n",
    "Y_pred  = xg.predict(X_test_ref)\n",
    "accuracy_score(Y_test, Y_pred)"
   ]
  },
  {
   "cell_type": "code",
   "execution_count": 9,
   "metadata": {
    "collapsed": true
   },
   "outputs": [],
   "source": [
    "for f in X_train.columns: \n",
    "    if X_train[f].dtype=='object': \n",
    "        lbl = preprocessing.LabelEncoder() \n",
    "        lbl.fit(list(X_train[f].values)) \n",
    "        X_train[f] = lbl.transform(list(X_train[f].values))\n",
    "for f in X_test.columns: \n",
    "    if X_test[f].dtype=='object': \n",
    "        lbl = preprocessing.LabelEncoder() \n",
    "        lbl.fit(list(X_test[f].values)) \n",
    "        X_test[f] = lbl.transform(list(X_test[f].values))"
   ]
  },
  {
   "cell_type": "code",
   "execution_count": 17,
   "metadata": {},
   "outputs": [
    {
     "name": "stdout",
     "output_type": "stream",
     "text": [
      "training finished in 3 seconds\n"
     ]
    },
    {
     "data": {
      "text/plain": [
       "0.016666666666666666"
      ]
     },
     "execution_count": 17,
     "metadata": {},
     "output_type": "execute_result"
    }
   ],
   "source": [
    "import xgboost as xgb\n",
    "# Support Vector Machines\n",
    "d1 = datetime.now()\n",
    "param_dist = {'n_estimators':355, 'nthread':22, 'max_depth':7}\n",
    "xg = xgb.XGBClassifier()\n",
    "xg.fit(X_train, Y_train, verbose=True)\n",
    "d2 = datetime.now()\n",
    "delta = d2 - d1\n",
    "print \"training finished in \" + str(delta.seconds) + \" seconds\"\n",
    "X_test_ref = X_test.drop('user_id', axis=1)\n",
    "Y_pred  = xg.predict(X_test_ref)\n",
    "\n",
    "submission = pd.DataFrame({\n",
    "         \"user_id\": X_test[\"user_id\"],\n",
    "         \"search_marka\": Y_pred\n",
    "     })\n",
    "submission.to_csv('resource/results_XGB.csv', index=False)\n",
    "accuracy_score(Y_test, Y_pred)"
   ]
  },
  {
   "cell_type": "code",
   "execution_count": 9,
   "metadata": {
    "collapsed": true
   },
   "outputs": [],
   "source": [
    "\n",
    "dataframe = pandas.get_dummies(dataframe, columns=[\"search_rigion\", \"search_country\", \"search_city\", \"search_body\", \"search_transmission\", \"search_wheel\"], \n",
    "                   prefix=[\"rigion\", \"country\", \"city\",\"body\",\"transmission\",\"wheel\"])"
   ]
  },
  {
   "cell_type": "code",
   "execution_count": null,
   "metadata": {
    "collapsed": true
   },
   "outputs": [],
   "source": [
    "dataframe['search_marka'] = dataframe.apply(lambda row: get_id_by_name_simple(const.MODELS_ID_MAPPING_JSON_ROUTE, row['search_marka']),axis=1)"
   ]
  },
  {
   "cell_type": "code",
   "execution_count": 44,
   "metadata": {},
   "outputs": [],
   "source": [
    "import numpy\n",
    "import pandas\n",
    "from keras.models import Sequential\n",
    "from keras.layers import Dense, Dropout\n",
    "from keras.wrappers.scikit_learn import KerasClassifier\n",
    "from keras.utils import np_utils\n",
    "from sklearn.model_selection import cross_val_score\n",
    "from sklearn.model_selection import KFold\n",
    "from sklearn.preprocessing import LabelEncoder\n",
    "from sklearn.pipeline import Pipeline\n",
    "from keras import optimizers"
   ]
  },
  {
   "cell_type": "code",
   "execution_count": 11,
   "metadata": {
    "collapsed": true
   },
   "outputs": [],
   "source": [
    "# fix random seed for reproducibility\n",
    "seed = 50\n",
    "numpy.random.seed(seed)"
   ]
  },
  {
   "cell_type": "code",
   "execution_count": 3,
   "metadata": {
    "collapsed": true
   },
   "outputs": [],
   "source": [
    "# load dataset\n",
    "dataframe = pandas.read_csv(\"test.csv\", header=None)\n",
    "dataset = dataframe.values\n",
    "X = dataset[:,0:4].astype(float)\n",
    "Y = dataset[:,4]"
   ]
  },
  {
   "cell_type": "code",
   "execution_count": 16,
   "metadata": {},
   "outputs": [],
   "source": [
    "X_data = dataframe.drop(\"search_marka\", axis=1)          # data: Features\n",
    "Y_data = dataframe[\"search_marka\"]                       # data: Labels\n",
    "\n",
    "X_train, X_test, Y_train, Y_test = train_test_split(X_data, Y_data, test_size=0.2, random_state=0)\n",
    "\n",
    "X = X_train.drop(['user_id'], axis=1).values\n",
    "X_test = X_test.drop(['user_id'], axis=1).values\n",
    "Y = Y_train.values\n",
    "Y_test = Y_test.values\n",
    "\n",
    "# encode class values as integers\n",
    "uniques_train, ids_train = np.unique(Y_train, return_inverse=True)\n",
    "uniques_test, ids_test = np.unique(Y_test, return_inverse=True)\n",
    "# convert integers to dummy variables (i.e. one hot encoded)\n",
    "dummy_train = np_utils.to_categorical(ids_train, len(Y_data.unique()))\n",
    "# convert integers to dummy variables (i.e. one hot encoded)\n",
    "dummy_test = np_utils.to_categorical(ids_test, len(Y_data.unique()))"
   ]
  },
  {
   "cell_type": "code",
   "execution_count": 122,
   "metadata": {},
   "outputs": [
    {
     "data": {
      "text/plain": [
       "set()"
      ]
     },
     "execution_count": 122,
     "metadata": {},
     "output_type": "execute_result"
    }
   ],
   "source": [
    "set(uniques_train) - set(uniques_test)"
   ]
  },
  {
   "cell_type": "code",
   "execution_count": null,
   "metadata": {},
   "outputs": [],
   "source": [
    "uniques_test"
   ]
  },
  {
   "cell_type": "code",
   "execution_count": 58,
   "metadata": {},
   "outputs": [],
   "source": [
    "from keras.callbacks import Callback\n",
    "class EarlyStoppingByLossVal(Callback):\n",
    "    def __init__(self, monitor='val_loss', value=0.00001, verbose=0):\n",
    "        super(Callback, self).__init__()\n",
    "        self.monitor = monitor\n",
    "        self.value = value\n",
    "        self.verbose = verbose\n",
    "\n",
    "    def on_epoch_end(self, epoch, logs={}):\n",
    "        current = logs.get(self.monitor)\n",
    "        if current is None:\n",
    "            warnings.warn(\"Early stopping requires %s available!\" % self.monitor, RuntimeWarning)\n",
    "\n",
    "        if current > self.value:\n",
    "            if self.verbose > 0:\n",
    "                print(\"Epoch %05d: early stopping THR\" % epoch)\n",
    "            self.model.stop_training = True\n",
    "callbacks = [\n",
    "    EarlyStoppingByLossVal(monitor='val_acc', value=0.92, verbose=1),\n",
    "    # EarlyStopping(monitor='val_loss', patience=2, verbose=0),\n",
    "]"
   ]
  },
  {
   "cell_type": "code",
   "execution_count": 55,
   "metadata": {},
   "outputs": [],
   "source": [
    "# define baseline model\n",
    "def baseline_model():\n",
    "    model = Sequential()\n",
    "    \n",
    "    model.add(Dense(X.shape[1]-1, input_dim=X.shape[1], activation='relu'))\n",
    "    model.add(Dropout(0.5))\n",
    "    model.add(Dense(X.shape[1]-2, input_dim=X.shape[1], activation='relu'))\n",
    "    model.add(Dense(X.shape[1]-1, input_dim=X.shape[1], activation='relu'))\n",
    "    model.add(Dense(X.shape[1]-1, input_dim=X.shape[1], activation='relu'))\n",
    "#     model.add(Dense(8, input_dim=4, activation='relu'))\n",
    "    model.add(Dense(len(dataframe['search_marka'].unique()), activation='softmax'))\n",
    "#     model.add(Dense(3, activation='softmax'))\n",
    "    # Compile model\n",
    "    model.compile(loss='categorical_crossentropy', optimizer='adam', metrics=['accuracy'])\n",
    "    return model"
   ]
  },
  {
   "cell_type": "code",
   "execution_count": 108,
   "metadata": {},
   "outputs": [
    {
     "data": {
      "text/plain": [
       "array(['Opel', 'Ford', 'Skoda', ..., 'Yugo', 'Cadillac', 'Autobianchi'], dtype=object)"
      ]
     },
     "execution_count": 108,
     "metadata": {},
     "output_type": "execute_result"
    }
   ],
   "source": [
    "from numpy import argmax\n",
    "dummy = numpy.take(Y_data.unique(), numpy.argmax(dummy_y_test,1))\n",
    "dummy"
   ]
  },
  {
   "cell_type": "code",
   "execution_count": 130,
   "metadata": {},
   "outputs": [
    {
     "data": {
      "text/plain": [
       "array(['Saipa', 'Austin', 'SsangYong', ..., 'Saturn', 'Jeep', 'Toyota'], dtype=object)"
      ]
     },
     "execution_count": 130,
     "metadata": {},
     "output_type": "execute_result"
    }
   ],
   "source": [
    "Y_test"
   ]
  },
  {
   "cell_type": "code",
   "execution_count": 112,
   "metadata": {
    "collapsed": true
   },
   "outputs": [],
   "source": [
    "y_code = np_utils.to_categorical(ids, len(uniques))"
   ]
  },
  {
   "cell_type": "code",
   "execution_count": 127,
   "metadata": {},
   "outputs": [
    {
     "data": {
      "text/plain": [
       "1.0"
      ]
     },
     "execution_count": 127,
     "metadata": {},
     "output_type": "execute_result"
    }
   ],
   "source": [
    "pred = uniques_test[dummy_train.argmax(1)]\n",
    "accuracy_score(Y_train, pred)"
   ]
  },
  {
   "cell_type": "code",
   "execution_count": 106,
   "metadata": {},
   "outputs": [
    {
     "data": {
      "text/plain": [
       "array([ 92,   6, 100, ...,  94,  55, 108], dtype=int64)"
      ]
     },
     "execution_count": 106,
     "metadata": {},
     "output_type": "execute_result"
    }
   ],
   "source": [
    "encoded_Y"
   ]
  },
  {
   "cell_type": "code",
   "execution_count": null,
   "metadata": {},
   "outputs": [],
   "source": [
    "Y_train"
   ]
  },
  {
   "cell_type": "code",
   "execution_count": 42,
   "metadata": {
    "collapsed": true
   },
   "outputs": [],
   "source": [
    "estimator = KerasClassifier(build_fn=baseline_model, epochs=20, batch_size=200, verbose=1)"
   ]
  },
  {
   "cell_type": "code",
   "execution_count": 43,
   "metadata": {
    "collapsed": true
   },
   "outputs": [],
   "source": [
    "kfold = KFold(n_splits=10, shuffle=True, random_state=seed)"
   ]
  },
  {
   "cell_type": "code",
   "execution_count": 60,
   "metadata": {},
   "outputs": [
    {
     "name": "stdout",
     "output_type": "stream",
     "text": [
      "Train on 7999 samples, validate on 2000 samples\n",
      "Epoch 1/3000\n",
      "7999/7999 [==============================] - 279s - loss: 4.8872 - acc: 0.0080 - val_loss: 4.8828 - val_acc: 0.0065\n",
      "Epoch 2/3000\n",
      "7999/7999 [==============================] - 167s - loss: 4.6773 - acc: 0.0180 - val_loss: 4.2011 - val_acc: 0.0335\n",
      "Epoch 3/3000\n",
      "7999/7999 [==============================] - 161s - loss: 3.8953 - acc: 0.0568 - val_loss: 3.5514 - val_acc: 0.0810\n",
      "Epoch 4/3000\n",
      "7999/7999 [==============================] - 163s - loss: 3.4058 - acc: 0.1046 - val_loss: 3.0176 - val_acc: 0.1625\n",
      "Epoch 5/3000\n",
      "7999/7999 [==============================] - 164s - loss: 2.8697 - acc: 0.1979 - val_loss: 2.6759 - val_acc: 0.2460\n",
      "Epoch 6/3000\n",
      "7999/7999 [==============================] - 160s - loss: 2.3864 - acc: 0.3022 - val_loss: 2.1149 - val_acc: 0.3890\n",
      "Epoch 7/3000\n",
      "7999/7999 [==============================] - 164s - loss: 1.9865 - acc: 0.3905 - val_loss: 1.8500 - val_acc: 0.4390\n",
      "Epoch 8/3000\n",
      "7999/7999 [==============================] - 166s - loss: 1.6793 - acc: 0.4682 - val_loss: 1.5798 - val_acc: 0.5310\n",
      "Epoch 9/3000\n",
      "7999/7999 [==============================] - 168s - loss: 1.4700 - acc: 0.5189 - val_loss: 1.4717 - val_acc: 0.5580\n",
      "Epoch 10/3000\n",
      "7999/7999 [==============================] - 170s - loss: 1.2767 - acc: 0.5776 - val_loss: 1.3650 - val_acc: 0.5815\n",
      "Epoch 11/3000\n",
      "7999/7999 [==============================] - 170s - loss: 1.1210 - acc: 0.6216 - val_loss: 1.3390 - val_acc: 0.6170\n",
      "Epoch 12/3000\n",
      "7999/7999 [==============================] - 170s - loss: 0.9980 - acc: 0.6603 - val_loss: 1.2842 - val_acc: 0.6235\n",
      "Epoch 13/3000\n",
      "7999/7999 [==============================] - 172s - loss: 0.8704 - acc: 0.7013 - val_loss: 1.0936 - val_acc: 0.7025\n",
      "Epoch 14/3000\n",
      "7999/7999 [==============================] - 169s - loss: 0.7912 - acc: 0.7292 - val_loss: 1.1039 - val_acc: 0.6980\n",
      "Epoch 15/3000\n",
      "7999/7999 [==============================] - 168s - loss: 0.6545 - acc: 0.7748 - val_loss: 1.0295 - val_acc: 0.7335\n",
      "Epoch 16/3000\n",
      "7999/7999 [==============================] - 173s - loss: 0.5806 - acc: 0.7976 - val_loss: 0.9534 - val_acc: 0.7695\n",
      "Epoch 17/3000\n",
      "7999/7999 [==============================] - 167s - loss: 0.4951 - acc: 0.8340 - val_loss: 1.0020 - val_acc: 0.7585\n",
      "Epoch 18/3000\n",
      "7999/7999 [==============================] - 156s - loss: 0.4392 - acc: 0.8491 - val_loss: 1.0339 - val_acc: 0.7445\n",
      "Epoch 19/3000\n",
      "7999/7999 [==============================] - 154s - loss: 0.3644 - acc: 0.8769 - val_loss: 0.9721 - val_acc: 0.7830\n",
      "Epoch 20/3000\n",
      "7999/7999 [==============================] - 155s - loss: 0.3363 - acc: 0.8871 - val_loss: 0.9858 - val_acc: 0.7780\n",
      "Epoch 21/3000\n",
      "7999/7999 [==============================] - 154s - loss: 0.3184 - acc: 0.8954 - val_loss: 0.9991 - val_acc: 0.7770\n",
      "Epoch 22/3000\n",
      "7999/7999 [==============================] - 154s - loss: 0.2701 - acc: 0.9106 - val_loss: 1.1374 - val_acc: 0.7600\n",
      "Epoch 23/3000\n",
      "7999/7999 [==============================] - 154s - loss: 0.2512 - acc: 0.9200 - val_loss: 1.0265 - val_acc: 0.7820\n",
      "Epoch 24/3000\n",
      "7999/7999 [==============================] - 154s - loss: 0.2371 - acc: 0.9224 - val_loss: 0.9376 - val_acc: 0.8010\n",
      "Epoch 25/3000\n",
      "7999/7999 [==============================] - 155s - loss: 0.2420 - acc: 0.9237 - val_loss: 1.0178 - val_acc: 0.7845\n",
      "Epoch 26/3000\n",
      "7999/7999 [==============================] - 155s - loss: 0.1984 - acc: 0.9341 - val_loss: 1.0602 - val_acc: 0.7885\n",
      "Epoch 27/3000\n",
      "7999/7999 [==============================] - 154s - loss: 0.1902 - acc: 0.9390 - val_loss: 0.9285 - val_acc: 0.8065\n",
      "Epoch 28/3000\n",
      "7999/7999 [==============================] - 155s - loss: 0.1847 - acc: 0.9422 - val_loss: 1.1068 - val_acc: 0.7795\n",
      "Epoch 29/3000\n",
      "7999/7999 [==============================] - 155s - loss: 0.1719 - acc: 0.9412 - val_loss: 0.8908 - val_acc: 0.8225\n",
      "Epoch 30/3000\n",
      "7999/7999 [==============================] - 155s - loss: 0.1606 - acc: 0.9439 - val_loss: 0.9184 - val_acc: 0.8240\n",
      "Epoch 31/3000\n",
      "7999/7999 [==============================] - 155s - loss: 0.1470 - acc: 0.9506 - val_loss: 1.0284 - val_acc: 0.8160\n",
      "Epoch 32/3000\n",
      "7999/7999 [==============================] - 155s - loss: 0.1635 - acc: 0.9477 - val_loss: 1.1389 - val_acc: 0.7880\n",
      "Epoch 33/3000\n",
      "7999/7999 [==============================] - 154s - loss: 0.1407 - acc: 0.9539 - val_loss: 1.0579 - val_acc: 0.7895\n",
      "Epoch 34/3000\n",
      "7999/7999 [==============================] - 154s - loss: 0.1473 - acc: 0.9517 - val_loss: 0.9392 - val_acc: 0.8285\n",
      "Epoch 35/3000\n",
      "7999/7999 [==============================] - 154s - loss: 0.1374 - acc: 0.9574 - val_loss: 0.9638 - val_acc: 0.8190\n",
      "Epoch 36/3000\n",
      "7999/7999 [==============================] - 154s - loss: 0.1213 - acc: 0.9590 - val_loss: 1.0020 - val_acc: 0.8240\n",
      "Epoch 37/3000\n",
      "7999/7999 [==============================] - 154s - loss: 0.1156 - acc: 0.9614 - val_loss: 1.0090 - val_acc: 0.8260\n",
      "Epoch 38/3000\n",
      "7999/7999 [==============================] - 154s - loss: 0.1332 - acc: 0.9584 - val_loss: 1.0807 - val_acc: 0.8030\n",
      "Epoch 39/3000\n",
      "7999/7999 [==============================] - 154s - loss: 0.1053 - acc: 0.9655 - val_loss: 1.0200 - val_acc: 0.8240\n",
      "Epoch 40/3000\n",
      "7999/7999 [==============================] - 154s - loss: 0.1129 - acc: 0.9654 - val_loss: 1.0730 - val_acc: 0.8265\n",
      "Epoch 41/3000\n",
      "7999/7999 [==============================] - 154s - loss: 0.1167 - acc: 0.9644 - val_loss: 1.0139 - val_acc: 0.8290\n",
      "Epoch 42/3000\n",
      "7999/7999 [==============================] - 155s - loss: 0.1044 - acc: 0.9672 - val_loss: 1.1868 - val_acc: 0.8050\n",
      "Epoch 43/3000\n",
      "7999/7999 [==============================] - 153s - loss: 0.1317 - acc: 0.9581 - val_loss: 0.9646 - val_acc: 0.8200\n",
      "Epoch 44/3000\n",
      "7999/7999 [==============================] - 154s - loss: 0.0798 - acc: 0.9765 - val_loss: 0.9668 - val_acc: 0.8360\n",
      "Epoch 45/3000\n",
      "7999/7999 [==============================] - 155s - loss: 0.1306 - acc: 0.9620 - val_loss: 1.1745 - val_acc: 0.7995\n",
      "Epoch 46/3000\n",
      "7999/7999 [==============================] - 154s - loss: 0.1275 - acc: 0.9615 - val_loss: 1.0428 - val_acc: 0.8180\n",
      "Epoch 47/3000\n",
      "7999/7999 [==============================] - 154s - loss: 0.1055 - acc: 0.9660 - val_loss: 0.9266 - val_acc: 0.8275\n",
      "Epoch 48/3000\n",
      "7999/7999 [==============================] - 156s - loss: 0.0754 - acc: 0.9762 - val_loss: 1.0698 - val_acc: 0.8245\n",
      "Epoch 49/3000\n",
      "7999/7999 [==============================] - 155s - loss: 0.0776 - acc: 0.9765 - val_loss: 0.9034 - val_acc: 0.8495\n",
      "Epoch 50/3000\n",
      "7999/7999 [==============================] - 154s - loss: 0.0890 - acc: 0.9717 - val_loss: 0.9892 - val_acc: 0.8265\n",
      "Epoch 51/3000\n",
      "7999/7999 [==============================] - 155s - loss: 0.1017 - acc: 0.9671 - val_loss: 1.0258 - val_acc: 0.8315\n",
      "Epoch 52/3000\n",
      "7999/7999 [==============================] - 154s - loss: 0.0770 - acc: 0.9742 - val_loss: 0.9102 - val_acc: 0.8485\n",
      "Epoch 53/3000\n",
      "7999/7999 [==============================] - 154s - loss: 0.0885 - acc: 0.9739 - val_loss: 0.9997 - val_acc: 0.8400\n",
      "Epoch 54/3000\n",
      "7999/7999 [==============================] - 154s - loss: 0.0794 - acc: 0.9739 - val_loss: 0.9895 - val_acc: 0.8415\n",
      "Epoch 55/3000\n",
      "7999/7999 [==============================] - 154s - loss: 0.0840 - acc: 0.9730 - val_loss: 1.1016 - val_acc: 0.8280\n",
      "Epoch 56/3000\n",
      "7999/7999 [==============================] - 153s - loss: 0.1171 - acc: 0.9652 - val_loss: 1.0748 - val_acc: 0.8210\n",
      "Epoch 57/3000\n",
      "7999/7999 [==============================] - 153s - loss: 0.0778 - acc: 0.9756 - val_loss: 0.9953 - val_acc: 0.8445\n",
      "Epoch 58/3000\n",
      "7999/7999 [==============================] - 154s - loss: 0.0711 - acc: 0.9797 - val_loss: 0.9364 - val_acc: 0.8470\n",
      "Epoch 59/3000\n",
      "7999/7999 [==============================] - 153s - loss: 0.1047 - acc: 0.9691 - val_loss: 1.1136 - val_acc: 0.8075\n",
      "Epoch 60/3000\n",
      "7999/7999 [==============================] - 153s - loss: 0.0816 - acc: 0.9746 - val_loss: 1.0148 - val_acc: 0.8210\n",
      "Epoch 61/3000\n",
      "7999/7999 [==============================] - 154s - loss: 0.0679 - acc: 0.9794 - val_loss: 1.0363 - val_acc: 0.8315\n",
      "Epoch 62/3000\n",
      "7999/7999 [==============================] - 153s - loss: 0.0828 - acc: 0.9752 - val_loss: 0.9928 - val_acc: 0.8360\n",
      "Epoch 63/3000\n"
     ]
    },
    {
     "name": "stdout",
     "output_type": "stream",
     "text": [
      "7999/7999 [==============================] - 153s - loss: 0.0589 - acc: 0.9799 - val_loss: 1.0458 - val_acc: 0.8400\n",
      "Epoch 64/3000\n",
      "7999/7999 [==============================] - 153s - loss: 0.0864 - acc: 0.9741 - val_loss: 0.9498 - val_acc: 0.8480\n",
      "Epoch 65/3000\n",
      "7999/7999 [==============================] - 152s - loss: 0.0601 - acc: 0.9809 - val_loss: 1.0026 - val_acc: 0.8420\n",
      "Epoch 66/3000\n",
      "7999/7999 [==============================] - 154s - loss: 0.0675 - acc: 0.9787 - val_loss: 0.9950 - val_acc: 0.8415\n",
      "Epoch 67/3000\n",
      "7999/7999 [==============================] - 153s - loss: 0.0492 - acc: 0.9840 - val_loss: 0.9604 - val_acc: 0.8475\n",
      "Epoch 68/3000\n",
      "7999/7999 [==============================] - 153s - loss: 0.0613 - acc: 0.9807 - val_loss: 0.9687 - val_acc: 0.8460\n",
      "Epoch 69/3000\n",
      "7999/7999 [==============================] - 154s - loss: 0.0735 - acc: 0.9771 - val_loss: 0.9645 - val_acc: 0.8450\n",
      "Epoch 70/3000\n",
      "7999/7999 [==============================] - 153s - loss: 0.0610 - acc: 0.9812 - val_loss: 1.0766 - val_acc: 0.8405\n",
      "Epoch 71/3000\n",
      "7999/7999 [==============================] - 152s - loss: 0.0814 - acc: 0.9780 - val_loss: 0.9651 - val_acc: 0.8495\n",
      "Epoch 72/3000\n",
      "7999/7999 [==============================] - 153s - loss: 0.0776 - acc: 0.9776 - val_loss: 0.9815 - val_acc: 0.8510\n",
      "Epoch 73/3000\n",
      "7999/7999 [==============================] - 153s - loss: 0.0584 - acc: 0.9829 - val_loss: 1.0118 - val_acc: 0.8450\n",
      "Epoch 74/3000\n",
      "7999/7999 [==============================] - 153s - loss: 0.0585 - acc: 0.9815 - val_loss: 0.9446 - val_acc: 0.8565\n",
      "Epoch 75/3000\n",
      "7999/7999 [==============================] - 153s - loss: 0.0697 - acc: 0.9797 - val_loss: 0.9620 - val_acc: 0.8470\n",
      "Epoch 76/3000\n",
      "7999/7999 [==============================] - 153s - loss: 0.0651 - acc: 0.9815 - val_loss: 0.9816 - val_acc: 0.8515\n",
      "Epoch 77/3000\n",
      "7999/7999 [==============================] - 154s - loss: 0.0771 - acc: 0.9761 - val_loss: 1.0823 - val_acc: 0.8530\n",
      "Epoch 78/3000\n",
      "7999/7999 [==============================] - 153s - loss: 0.0636 - acc: 0.9820 - val_loss: 1.1112 - val_acc: 0.8305\n",
      "Epoch 79/3000\n",
      "7999/7999 [==============================] - 152s - loss: 0.0476 - acc: 0.9852 - val_loss: 0.9829 - val_acc: 0.8600\n",
      "Epoch 80/3000\n",
      "7999/7999 [==============================] - 153s - loss: 0.0499 - acc: 0.9862 - val_loss: 1.0397 - val_acc: 0.8465\n",
      "Epoch 81/3000\n",
      "7999/7999 [==============================] - 153s - loss: 0.0522 - acc: 0.9846 - val_loss: 0.9878 - val_acc: 0.8510\n",
      "Epoch 82/3000\n",
      "7999/7999 [==============================] - 153s - loss: 0.0478 - acc: 0.9837 - val_loss: 1.0496 - val_acc: 0.8480\n",
      "Epoch 83/3000\n",
      "7999/7999 [==============================] - 153s - loss: 0.0538 - acc: 0.9834 - val_loss: 1.0135 - val_acc: 0.8515\n",
      "Epoch 84/3000\n",
      "7999/7999 [==============================] - 154s - loss: 0.0662 - acc: 0.9816 - val_loss: 1.1002 - val_acc: 0.8475\n",
      "Epoch 85/3000\n",
      "7999/7999 [==============================] - 158s - loss: 0.0467 - acc: 0.9856 - val_loss: 1.0555 - val_acc: 0.8450\n",
      "Epoch 86/3000\n",
      "7999/7999 [==============================] - 156s - loss: 0.0561 - acc: 0.9844 - val_loss: 1.0746 - val_acc: 0.8470\n",
      "Epoch 87/3000\n",
      "7999/7999 [==============================] - 156s - loss: 0.0584 - acc: 0.9839 - val_loss: 1.1639 - val_acc: 0.8395\n",
      "Epoch 88/3000\n",
      "7999/7999 [==============================] - 156s - loss: 0.0586 - acc: 0.9830 - val_loss: 0.9653 - val_acc: 0.8550\n",
      "Epoch 89/3000\n",
      "7999/7999 [==============================] - 157s - loss: 0.0867 - acc: 0.9749 - val_loss: 1.1109 - val_acc: 0.8310\n",
      "Epoch 90/3000\n",
      "7999/7999 [==============================] - 155s - loss: 0.0408 - acc: 0.9864 - val_loss: 0.9679 - val_acc: 0.8560\n",
      "Epoch 91/3000\n",
      "7999/7999 [==============================] - 155s - loss: 0.0691 - acc: 0.9804 - val_loss: 1.0350 - val_acc: 0.8450\n",
      "Epoch 92/3000\n",
      "7999/7999 [==============================] - 156s - loss: 0.0516 - acc: 0.9844 - val_loss: 1.0104 - val_acc: 0.8470\n",
      "Epoch 93/3000\n",
      "7999/7999 [==============================] - 155s - loss: 0.0625 - acc: 0.9829 - val_loss: 1.0052 - val_acc: 0.8490\n",
      "Epoch 94/3000\n",
      "7999/7999 [==============================] - 157s - loss: 0.0447 - acc: 0.9861 - val_loss: 0.9377 - val_acc: 0.8650\n",
      "Epoch 95/3000\n",
      "7999/7999 [==============================] - 155s - loss: 0.0516 - acc: 0.9860 - val_loss: 1.1132 - val_acc: 0.8325\n",
      "Epoch 96/3000\n",
      "7999/7999 [==============================] - 155s - loss: 0.0680 - acc: 0.9826 - val_loss: 1.0562 - val_acc: 0.8390\n",
      "Epoch 97/3000\n",
      "7999/7999 [==============================] - 157s - loss: 0.0669 - acc: 0.9815 - val_loss: 0.9987 - val_acc: 0.8530\n",
      "Epoch 98/3000\n",
      "7999/7999 [==============================] - 157s - loss: 0.0493 - acc: 0.9835 - val_loss: 0.9639 - val_acc: 0.8595\n",
      "Epoch 99/3000\n",
      "7999/7999 [==============================] - 156s - loss: 0.0553 - acc: 0.9837 - val_loss: 1.0160 - val_acc: 0.8575\n",
      "Epoch 100/3000\n",
      "7999/7999 [==============================] - 154s - loss: 0.0508 - acc: 0.9836 - val_loss: 0.9250 - val_acc: 0.8635\n",
      "Epoch 101/3000\n",
      "7999/7999 [==============================] - 157s - loss: 0.0470 - acc: 0.9882 - val_loss: 1.0165 - val_acc: 0.8540\n",
      "Epoch 102/3000\n",
      "7999/7999 [==============================] - 156s - loss: 0.0492 - acc: 0.9885 - val_loss: 1.0234 - val_acc: 0.8545\n",
      "Epoch 103/3000\n",
      "7999/7999 [==============================] - 158s - loss: 0.0394 - acc: 0.9877 - val_loss: 1.0535 - val_acc: 0.8620\n",
      "Epoch 104/3000\n",
      "7999/7999 [==============================] - 157s - loss: 0.0332 - acc: 0.9905 - val_loss: 1.0865 - val_acc: 0.8530\n",
      "Epoch 105/3000\n",
      "7999/7999 [==============================] - 157s - loss: 0.0304 - acc: 0.9899 - val_loss: 1.0605 - val_acc: 0.8530\n",
      "Epoch 106/3000\n",
      "7999/7999 [==============================] - 157s - loss: 0.0591 - acc: 0.9841 - val_loss: 0.9694 - val_acc: 0.8510\n",
      "Epoch 107/3000\n",
      "7999/7999 [==============================] - 157s - loss: 0.0263 - acc: 0.9914 - val_loss: 0.9799 - val_acc: 0.8650\n",
      "Epoch 108/3000\n",
      "7999/7999 [==============================] - 158s - loss: 0.0402 - acc: 0.9895 - val_loss: 1.0430 - val_acc: 0.8490\n",
      "Epoch 109/3000\n",
      "7999/7999 [==============================] - 157s - loss: 0.0524 - acc: 0.9852 - val_loss: 1.0995 - val_acc: 0.8465\n",
      "Epoch 110/3000\n",
      "7999/7999 [==============================] - 156s - loss: 0.0605 - acc: 0.9829 - val_loss: 1.0285 - val_acc: 0.8475\n",
      "Epoch 111/3000\n",
      "7999/7999 [==============================] - 153s - loss: 0.0525 - acc: 0.9884 - val_loss: 1.0869 - val_acc: 0.8460\n",
      "Epoch 112/3000\n",
      "7999/7999 [==============================] - 154s - loss: 0.0683 - acc: 0.9840 - val_loss: 0.9229 - val_acc: 0.8670\n",
      "Epoch 113/3000\n",
      "7999/7999 [==============================] - 154s - loss: 0.0388 - acc: 0.9862 - val_loss: 0.9949 - val_acc: 0.8550\n",
      "Epoch 114/3000\n",
      "7999/7999 [==============================] - 154s - loss: 0.0328 - acc: 0.9897 - val_loss: 1.1020 - val_acc: 0.8540\n",
      "Epoch 115/3000\n",
      "7999/7999 [==============================] - 153s - loss: 0.0451 - acc: 0.9879 - val_loss: 1.0945 - val_acc: 0.8435\n",
      "Epoch 116/3000\n",
      "7999/7999 [==============================] - 153s - loss: 0.0657 - acc: 0.9817 - val_loss: 0.9950 - val_acc: 0.8590\n",
      "Epoch 117/3000\n",
      "7999/7999 [==============================] - 154s - loss: 0.0618 - acc: 0.9851 - val_loss: 0.9653 - val_acc: 0.8585\n",
      "Epoch 118/3000\n",
      "7999/7999 [==============================] - 154s - loss: 0.0453 - acc: 0.9872 - val_loss: 1.0438 - val_acc: 0.8455\n",
      "Epoch 119/3000\n",
      "7999/7999 [==============================] - 154s - loss: 0.0248 - acc: 0.9916 - val_loss: 0.9717 - val_acc: 0.8590\n",
      "Epoch 120/3000\n",
      "7999/7999 [==============================] - 155s - loss: 0.0370 - acc: 0.9885 - val_loss: 0.9983 - val_acc: 0.8605\n",
      "Epoch 121/3000\n",
      "4000/7999 [==============>...............] - ETA: 77s - loss: 0.0488 - acc: 0.9878"
     ]
    },
    {
     "ename": "ResourceExhaustedError",
     "evalue": "OOM when allocating tensor with shape[3639,3638]\n\t [[Node: mul_523 = Mul[T=DT_FLOAT, _device=\"/job:localhost/replica:0/task:0/cpu:0\"](sub_315, gradients_12/dense_62/MatMul_grad/MatMul_1)]]\n\nCaused by op 'mul_523', defined at:\n  File \"D:\\Anaconda3\\envs\\dlwin36\\lib\\runpy.py\", line 193, in _run_module_as_main\n    \"__main__\", mod_spec)\n  File \"D:\\Anaconda3\\envs\\dlwin36\\lib\\runpy.py\", line 85, in _run_code\n    exec(code, run_globals)\n  File \"D:\\Anaconda3\\envs\\dlwin36\\lib\\site-packages\\ipykernel_launcher.py\", line 16, in <module>\n    app.launch_new_instance()\n  File \"D:\\Anaconda3\\envs\\dlwin36\\lib\\site-packages\\traitlets\\config\\application.py\", line 658, in launch_instance\n    app.start()\n  File \"D:\\Anaconda3\\envs\\dlwin36\\lib\\site-packages\\ipykernel\\kernelapp.py\", line 477, in start\n    ioloop.IOLoop.instance().start()\n  File \"D:\\Anaconda3\\envs\\dlwin36\\lib\\site-packages\\zmq\\eventloop\\ioloop.py\", line 177, in start\n    super(ZMQIOLoop, self).start()\n  File \"D:\\Anaconda3\\envs\\dlwin36\\lib\\site-packages\\tornado\\ioloop.py\", line 888, in start\n    handler_func(fd_obj, events)\n  File \"D:\\Anaconda3\\envs\\dlwin36\\lib\\site-packages\\tornado\\stack_context.py\", line 277, in null_wrapper\n    return fn(*args, **kwargs)\n  File \"D:\\Anaconda3\\envs\\dlwin36\\lib\\site-packages\\zmq\\eventloop\\zmqstream.py\", line 440, in _handle_events\n    self._handle_recv()\n  File \"D:\\Anaconda3\\envs\\dlwin36\\lib\\site-packages\\zmq\\eventloop\\zmqstream.py\", line 472, in _handle_recv\n    self._run_callback(callback, msg)\n  File \"D:\\Anaconda3\\envs\\dlwin36\\lib\\site-packages\\zmq\\eventloop\\zmqstream.py\", line 414, in _run_callback\n    callback(*args, **kwargs)\n  File \"D:\\Anaconda3\\envs\\dlwin36\\lib\\site-packages\\tornado\\stack_context.py\", line 277, in null_wrapper\n    return fn(*args, **kwargs)\n  File \"D:\\Anaconda3\\envs\\dlwin36\\lib\\site-packages\\ipykernel\\kernelbase.py\", line 283, in dispatcher\n    return self.dispatch_shell(stream, msg)\n  File \"D:\\Anaconda3\\envs\\dlwin36\\lib\\site-packages\\ipykernel\\kernelbase.py\", line 235, in dispatch_shell\n    handler(stream, idents, msg)\n  File \"D:\\Anaconda3\\envs\\dlwin36\\lib\\site-packages\\ipykernel\\kernelbase.py\", line 399, in execute_request\n    user_expressions, allow_stdin)\n  File \"D:\\Anaconda3\\envs\\dlwin36\\lib\\site-packages\\ipykernel\\ipkernel.py\", line 196, in do_execute\n    res = shell.run_cell(code, store_history=store_history, silent=silent)\n  File \"D:\\Anaconda3\\envs\\dlwin36\\lib\\site-packages\\ipykernel\\zmqshell.py\", line 533, in run_cell\n    return super(ZMQInteractiveShell, self).run_cell(*args, **kwargs)\n  File \"D:\\Anaconda3\\envs\\dlwin36\\lib\\site-packages\\IPython\\core\\interactiveshell.py\", line 2698, in run_cell\n    interactivity=interactivity, compiler=compiler, result=result)\n  File \"D:\\Anaconda3\\envs\\dlwin36\\lib\\site-packages\\IPython\\core\\interactiveshell.py\", line 2808, in run_ast_nodes\n    if self.run_code(code, result):\n  File \"D:\\Anaconda3\\envs\\dlwin36\\lib\\site-packages\\IPython\\core\\interactiveshell.py\", line 2862, in run_code\n    exec(code_obj, self.user_global_ns, self.user_ns)\n  File \"<ipython-input-60-3682969d6ad7>\", line 2, in <module>\n    model.fit(X, dummy_train, batch_size=50, epochs=3000, validation_data=(X_test, dummy_test), callbacks=callbacks)\n  File \"D:\\Anaconda3\\envs\\dlwin36\\lib\\site-packages\\keras\\models.py\", line 870, in fit\n    initial_epoch=initial_epoch)\n  File \"D:\\Anaconda3\\envs\\dlwin36\\lib\\site-packages\\keras\\engine\\training.py\", line 1490, in fit\n    self._make_train_function()\n  File \"D:\\Anaconda3\\envs\\dlwin36\\lib\\site-packages\\keras\\engine\\training.py\", line 1014, in _make_train_function\n    self.total_loss)\n  File \"D:\\Anaconda3\\envs\\dlwin36\\lib\\site-packages\\keras\\optimizers.py\", line 422, in get_updates\n    m_t = (self.beta_1 * m) + (1. - self.beta_1) * g\n  File \"D:\\Anaconda3\\envs\\dlwin36\\lib\\site-packages\\tensorflow\\python\\ops\\math_ops.py\", line 838, in binary_op_wrapper\n    return func(x, y, name=name)\n  File \"D:\\Anaconda3\\envs\\dlwin36\\lib\\site-packages\\tensorflow\\python\\ops\\math_ops.py\", line 1061, in _mul_dispatch\n    return gen_math_ops._mul(x, y, name=name)\n  File \"D:\\Anaconda3\\envs\\dlwin36\\lib\\site-packages\\tensorflow\\python\\ops\\gen_math_ops.py\", line 1377, in _mul\n    result = _op_def_lib.apply_op(\"Mul\", x=x, y=y, name=name)\n  File \"D:\\Anaconda3\\envs\\dlwin36\\lib\\site-packages\\tensorflow\\python\\framework\\op_def_library.py\", line 767, in apply_op\n    op_def=op_def)\n  File \"D:\\Anaconda3\\envs\\dlwin36\\lib\\site-packages\\tensorflow\\python\\framework\\ops.py\", line 2506, in create_op\n    original_op=self._default_original_op, op_def=op_def)\n  File \"D:\\Anaconda3\\envs\\dlwin36\\lib\\site-packages\\tensorflow\\python\\framework\\ops.py\", line 1269, in __init__\n    self._traceback = _extract_stack()\n\nResourceExhaustedError (see above for traceback): OOM when allocating tensor with shape[3639,3638]\n\t [[Node: mul_523 = Mul[T=DT_FLOAT, _device=\"/job:localhost/replica:0/task:0/cpu:0\"](sub_315, gradients_12/dense_62/MatMul_grad/MatMul_1)]]\n",
     "output_type": "error",
     "traceback": [
      "\u001b[1;31m---------------------------------------------------------------------------\u001b[0m",
      "\u001b[1;31mResourceExhaustedError\u001b[0m                    Traceback (most recent call last)",
      "\u001b[1;32mD:\\Anaconda3\\envs\\dlwin36\\lib\\site-packages\\tensorflow\\python\\client\\session.py\u001b[0m in \u001b[0;36m_do_call\u001b[1;34m(self, fn, *args)\u001b[0m\n\u001b[0;32m   1138\u001b[0m     \u001b[1;32mtry\u001b[0m\u001b[1;33m:\u001b[0m\u001b[1;33m\u001b[0m\u001b[0m\n\u001b[1;32m-> 1139\u001b[1;33m       \u001b[1;32mreturn\u001b[0m \u001b[0mfn\u001b[0m\u001b[1;33m(\u001b[0m\u001b[1;33m*\u001b[0m\u001b[0margs\u001b[0m\u001b[1;33m)\u001b[0m\u001b[1;33m\u001b[0m\u001b[0m\n\u001b[0m\u001b[0;32m   1140\u001b[0m     \u001b[1;32mexcept\u001b[0m \u001b[0merrors\u001b[0m\u001b[1;33m.\u001b[0m\u001b[0mOpError\u001b[0m \u001b[1;32mas\u001b[0m \u001b[0me\u001b[0m\u001b[1;33m:\u001b[0m\u001b[1;33m\u001b[0m\u001b[0m\n",
      "\u001b[1;32mD:\\Anaconda3\\envs\\dlwin36\\lib\\site-packages\\tensorflow\\python\\client\\session.py\u001b[0m in \u001b[0;36m_run_fn\u001b[1;34m(session, feed_dict, fetch_list, target_list, options, run_metadata)\u001b[0m\n\u001b[0;32m   1120\u001b[0m                                  \u001b[0mfeed_dict\u001b[0m\u001b[1;33m,\u001b[0m \u001b[0mfetch_list\u001b[0m\u001b[1;33m,\u001b[0m \u001b[0mtarget_list\u001b[0m\u001b[1;33m,\u001b[0m\u001b[1;33m\u001b[0m\u001b[0m\n\u001b[1;32m-> 1121\u001b[1;33m                                  status, run_metadata)\n\u001b[0m\u001b[0;32m   1122\u001b[0m \u001b[1;33m\u001b[0m\u001b[0m\n",
      "\u001b[1;32mD:\\Anaconda3\\envs\\dlwin36\\lib\\contextlib.py\u001b[0m in \u001b[0;36m__exit__\u001b[1;34m(self, type, value, traceback)\u001b[0m\n\u001b[0;32m     87\u001b[0m             \u001b[1;32mtry\u001b[0m\u001b[1;33m:\u001b[0m\u001b[1;33m\u001b[0m\u001b[0m\n\u001b[1;32m---> 88\u001b[1;33m                 \u001b[0mnext\u001b[0m\u001b[1;33m(\u001b[0m\u001b[0mself\u001b[0m\u001b[1;33m.\u001b[0m\u001b[0mgen\u001b[0m\u001b[1;33m)\u001b[0m\u001b[1;33m\u001b[0m\u001b[0m\n\u001b[0m\u001b[0;32m     89\u001b[0m             \u001b[1;32mexcept\u001b[0m \u001b[0mStopIteration\u001b[0m\u001b[1;33m:\u001b[0m\u001b[1;33m\u001b[0m\u001b[0m\n",
      "\u001b[1;32mD:\\Anaconda3\\envs\\dlwin36\\lib\\site-packages\\tensorflow\\python\\framework\\errors_impl.py\u001b[0m in \u001b[0;36mraise_exception_on_not_ok_status\u001b[1;34m()\u001b[0m\n\u001b[0;32m    465\u001b[0m           \u001b[0mcompat\u001b[0m\u001b[1;33m.\u001b[0m\u001b[0mas_text\u001b[0m\u001b[1;33m(\u001b[0m\u001b[0mpywrap_tensorflow\u001b[0m\u001b[1;33m.\u001b[0m\u001b[0mTF_Message\u001b[0m\u001b[1;33m(\u001b[0m\u001b[0mstatus\u001b[0m\u001b[1;33m)\u001b[0m\u001b[1;33m)\u001b[0m\u001b[1;33m,\u001b[0m\u001b[1;33m\u001b[0m\u001b[0m\n\u001b[1;32m--> 466\u001b[1;33m           pywrap_tensorflow.TF_GetCode(status))\n\u001b[0m\u001b[0;32m    467\u001b[0m   \u001b[1;32mfinally\u001b[0m\u001b[1;33m:\u001b[0m\u001b[1;33m\u001b[0m\u001b[0m\n",
      "\u001b[1;31mResourceExhaustedError\u001b[0m: OOM when allocating tensor with shape[3639,3638]\n\t [[Node: mul_523 = Mul[T=DT_FLOAT, _device=\"/job:localhost/replica:0/task:0/cpu:0\"](sub_315, gradients_12/dense_62/MatMul_grad/MatMul_1)]]",
      "\nDuring handling of the above exception, another exception occurred:\n",
      "\u001b[1;31mResourceExhaustedError\u001b[0m                    Traceback (most recent call last)",
      "\u001b[1;32m<ipython-input-60-3682969d6ad7>\u001b[0m in \u001b[0;36m<module>\u001b[1;34m()\u001b[0m\n\u001b[0;32m      1\u001b[0m \u001b[0mmodel\u001b[0m \u001b[1;33m=\u001b[0m \u001b[0mbaseline_model\u001b[0m\u001b[1;33m(\u001b[0m\u001b[1;33m)\u001b[0m\u001b[1;33m\u001b[0m\u001b[0m\n\u001b[1;32m----> 2\u001b[1;33m \u001b[0mmodel\u001b[0m\u001b[1;33m.\u001b[0m\u001b[0mfit\u001b[0m\u001b[1;33m(\u001b[0m\u001b[0mX\u001b[0m\u001b[1;33m,\u001b[0m \u001b[0mdummy_train\u001b[0m\u001b[1;33m,\u001b[0m \u001b[0mbatch_size\u001b[0m\u001b[1;33m=\u001b[0m\u001b[1;36m50\u001b[0m\u001b[1;33m,\u001b[0m \u001b[0mepochs\u001b[0m\u001b[1;33m=\u001b[0m\u001b[1;36m3000\u001b[0m\u001b[1;33m,\u001b[0m \u001b[0mvalidation_data\u001b[0m\u001b[1;33m=\u001b[0m\u001b[1;33m(\u001b[0m\u001b[0mX_test\u001b[0m\u001b[1;33m,\u001b[0m \u001b[0mdummy_test\u001b[0m\u001b[1;33m)\u001b[0m\u001b[1;33m,\u001b[0m \u001b[0mcallbacks\u001b[0m\u001b[1;33m=\u001b[0m\u001b[0mcallbacks\u001b[0m\u001b[1;33m)\u001b[0m\u001b[1;33m\u001b[0m\u001b[0m\n\u001b[0m",
      "\u001b[1;32mD:\\Anaconda3\\envs\\dlwin36\\lib\\site-packages\\keras\\models.py\u001b[0m in \u001b[0;36mfit\u001b[1;34m(self, x, y, batch_size, epochs, verbose, callbacks, validation_split, validation_data, shuffle, class_weight, sample_weight, initial_epoch, **kwargs)\u001b[0m\n\u001b[0;32m    868\u001b[0m                               \u001b[0mclass_weight\u001b[0m\u001b[1;33m=\u001b[0m\u001b[0mclass_weight\u001b[0m\u001b[1;33m,\u001b[0m\u001b[1;33m\u001b[0m\u001b[0m\n\u001b[0;32m    869\u001b[0m                               \u001b[0msample_weight\u001b[0m\u001b[1;33m=\u001b[0m\u001b[0msample_weight\u001b[0m\u001b[1;33m,\u001b[0m\u001b[1;33m\u001b[0m\u001b[0m\n\u001b[1;32m--> 870\u001b[1;33m                               initial_epoch=initial_epoch)\n\u001b[0m\u001b[0;32m    871\u001b[0m \u001b[1;33m\u001b[0m\u001b[0m\n\u001b[0;32m    872\u001b[0m     def evaluate(self, x, y, batch_size=32, verbose=1,\n",
      "\u001b[1;32mD:\\Anaconda3\\envs\\dlwin36\\lib\\site-packages\\keras\\engine\\training.py\u001b[0m in \u001b[0;36mfit\u001b[1;34m(self, x, y, batch_size, epochs, verbose, callbacks, validation_split, validation_data, shuffle, class_weight, sample_weight, initial_epoch, **kwargs)\u001b[0m\n\u001b[0;32m   1505\u001b[0m                               \u001b[0mval_f\u001b[0m\u001b[1;33m=\u001b[0m\u001b[0mval_f\u001b[0m\u001b[1;33m,\u001b[0m \u001b[0mval_ins\u001b[0m\u001b[1;33m=\u001b[0m\u001b[0mval_ins\u001b[0m\u001b[1;33m,\u001b[0m \u001b[0mshuffle\u001b[0m\u001b[1;33m=\u001b[0m\u001b[0mshuffle\u001b[0m\u001b[1;33m,\u001b[0m\u001b[1;33m\u001b[0m\u001b[0m\n\u001b[0;32m   1506\u001b[0m                               \u001b[0mcallback_metrics\u001b[0m\u001b[1;33m=\u001b[0m\u001b[0mcallback_metrics\u001b[0m\u001b[1;33m,\u001b[0m\u001b[1;33m\u001b[0m\u001b[0m\n\u001b[1;32m-> 1507\u001b[1;33m                               initial_epoch=initial_epoch)\n\u001b[0m\u001b[0;32m   1508\u001b[0m \u001b[1;33m\u001b[0m\u001b[0m\n\u001b[0;32m   1509\u001b[0m     \u001b[1;32mdef\u001b[0m \u001b[0mevaluate\u001b[0m\u001b[1;33m(\u001b[0m\u001b[0mself\u001b[0m\u001b[1;33m,\u001b[0m \u001b[0mx\u001b[0m\u001b[1;33m,\u001b[0m \u001b[0my\u001b[0m\u001b[1;33m,\u001b[0m \u001b[0mbatch_size\u001b[0m\u001b[1;33m=\u001b[0m\u001b[1;36m32\u001b[0m\u001b[1;33m,\u001b[0m \u001b[0mverbose\u001b[0m\u001b[1;33m=\u001b[0m\u001b[1;36m1\u001b[0m\u001b[1;33m,\u001b[0m \u001b[0msample_weight\u001b[0m\u001b[1;33m=\u001b[0m\u001b[1;32mNone\u001b[0m\u001b[1;33m)\u001b[0m\u001b[1;33m:\u001b[0m\u001b[1;33m\u001b[0m\u001b[0m\n",
      "\u001b[1;32mD:\\Anaconda3\\envs\\dlwin36\\lib\\site-packages\\keras\\engine\\training.py\u001b[0m in \u001b[0;36m_fit_loop\u001b[1;34m(self, f, ins, out_labels, batch_size, epochs, verbose, callbacks, val_f, val_ins, shuffle, callback_metrics, initial_epoch)\u001b[0m\n\u001b[0;32m   1154\u001b[0m                 \u001b[0mbatch_logs\u001b[0m\u001b[1;33m[\u001b[0m\u001b[1;34m'size'\u001b[0m\u001b[1;33m]\u001b[0m \u001b[1;33m=\u001b[0m \u001b[0mlen\u001b[0m\u001b[1;33m(\u001b[0m\u001b[0mbatch_ids\u001b[0m\u001b[1;33m)\u001b[0m\u001b[1;33m\u001b[0m\u001b[0m\n\u001b[0;32m   1155\u001b[0m                 \u001b[0mcallbacks\u001b[0m\u001b[1;33m.\u001b[0m\u001b[0mon_batch_begin\u001b[0m\u001b[1;33m(\u001b[0m\u001b[0mbatch_index\u001b[0m\u001b[1;33m,\u001b[0m \u001b[0mbatch_logs\u001b[0m\u001b[1;33m)\u001b[0m\u001b[1;33m\u001b[0m\u001b[0m\n\u001b[1;32m-> 1156\u001b[1;33m                 \u001b[0mouts\u001b[0m \u001b[1;33m=\u001b[0m \u001b[0mf\u001b[0m\u001b[1;33m(\u001b[0m\u001b[0mins_batch\u001b[0m\u001b[1;33m)\u001b[0m\u001b[1;33m\u001b[0m\u001b[0m\n\u001b[0m\u001b[0;32m   1157\u001b[0m                 \u001b[1;32mif\u001b[0m \u001b[1;32mnot\u001b[0m \u001b[0misinstance\u001b[0m\u001b[1;33m(\u001b[0m\u001b[0mouts\u001b[0m\u001b[1;33m,\u001b[0m \u001b[0mlist\u001b[0m\u001b[1;33m)\u001b[0m\u001b[1;33m:\u001b[0m\u001b[1;33m\u001b[0m\u001b[0m\n\u001b[0;32m   1158\u001b[0m                     \u001b[0mouts\u001b[0m \u001b[1;33m=\u001b[0m \u001b[1;33m[\u001b[0m\u001b[0mouts\u001b[0m\u001b[1;33m]\u001b[0m\u001b[1;33m\u001b[0m\u001b[0m\n",
      "\u001b[1;32mD:\\Anaconda3\\envs\\dlwin36\\lib\\site-packages\\keras\\backend\\tensorflow_backend.py\u001b[0m in \u001b[0;36m__call__\u001b[1;34m(self, inputs)\u001b[0m\n\u001b[0;32m   2267\u001b[0m         updated = session.run(self.outputs + [self.updates_op],\n\u001b[0;32m   2268\u001b[0m                               \u001b[0mfeed_dict\u001b[0m\u001b[1;33m=\u001b[0m\u001b[0mfeed_dict\u001b[0m\u001b[1;33m,\u001b[0m\u001b[1;33m\u001b[0m\u001b[0m\n\u001b[1;32m-> 2269\u001b[1;33m                               **self.session_kwargs)\n\u001b[0m\u001b[0;32m   2270\u001b[0m         \u001b[1;32mreturn\u001b[0m \u001b[0mupdated\u001b[0m\u001b[1;33m[\u001b[0m\u001b[1;33m:\u001b[0m\u001b[0mlen\u001b[0m\u001b[1;33m(\u001b[0m\u001b[0mself\u001b[0m\u001b[1;33m.\u001b[0m\u001b[0moutputs\u001b[0m\u001b[1;33m)\u001b[0m\u001b[1;33m]\u001b[0m\u001b[1;33m\u001b[0m\u001b[0m\n\u001b[0;32m   2271\u001b[0m \u001b[1;33m\u001b[0m\u001b[0m\n",
      "\u001b[1;32mD:\\Anaconda3\\envs\\dlwin36\\lib\\site-packages\\tensorflow\\python\\client\\session.py\u001b[0m in \u001b[0;36mrun\u001b[1;34m(self, fetches, feed_dict, options, run_metadata)\u001b[0m\n\u001b[0;32m    787\u001b[0m     \u001b[1;32mtry\u001b[0m\u001b[1;33m:\u001b[0m\u001b[1;33m\u001b[0m\u001b[0m\n\u001b[0;32m    788\u001b[0m       result = self._run(None, fetches, feed_dict, options_ptr,\n\u001b[1;32m--> 789\u001b[1;33m                          run_metadata_ptr)\n\u001b[0m\u001b[0;32m    790\u001b[0m       \u001b[1;32mif\u001b[0m \u001b[0mrun_metadata\u001b[0m\u001b[1;33m:\u001b[0m\u001b[1;33m\u001b[0m\u001b[0m\n\u001b[0;32m    791\u001b[0m         \u001b[0mproto_data\u001b[0m \u001b[1;33m=\u001b[0m \u001b[0mtf_session\u001b[0m\u001b[1;33m.\u001b[0m\u001b[0mTF_GetBuffer\u001b[0m\u001b[1;33m(\u001b[0m\u001b[0mrun_metadata_ptr\u001b[0m\u001b[1;33m)\u001b[0m\u001b[1;33m\u001b[0m\u001b[0m\n",
      "\u001b[1;32mD:\\Anaconda3\\envs\\dlwin36\\lib\\site-packages\\tensorflow\\python\\client\\session.py\u001b[0m in \u001b[0;36m_run\u001b[1;34m(self, handle, fetches, feed_dict, options, run_metadata)\u001b[0m\n\u001b[0;32m    995\u001b[0m     \u001b[1;32mif\u001b[0m \u001b[0mfinal_fetches\u001b[0m \u001b[1;32mor\u001b[0m \u001b[0mfinal_targets\u001b[0m\u001b[1;33m:\u001b[0m\u001b[1;33m\u001b[0m\u001b[0m\n\u001b[0;32m    996\u001b[0m       results = self._do_run(handle, final_targets, final_fetches,\n\u001b[1;32m--> 997\u001b[1;33m                              feed_dict_string, options, run_metadata)\n\u001b[0m\u001b[0;32m    998\u001b[0m     \u001b[1;32melse\u001b[0m\u001b[1;33m:\u001b[0m\u001b[1;33m\u001b[0m\u001b[0m\n\u001b[0;32m    999\u001b[0m       \u001b[0mresults\u001b[0m \u001b[1;33m=\u001b[0m \u001b[1;33m[\u001b[0m\u001b[1;33m]\u001b[0m\u001b[1;33m\u001b[0m\u001b[0m\n",
      "\u001b[1;32mD:\\Anaconda3\\envs\\dlwin36\\lib\\site-packages\\tensorflow\\python\\client\\session.py\u001b[0m in \u001b[0;36m_do_run\u001b[1;34m(self, handle, target_list, fetch_list, feed_dict, options, run_metadata)\u001b[0m\n\u001b[0;32m   1130\u001b[0m     \u001b[1;32mif\u001b[0m \u001b[0mhandle\u001b[0m \u001b[1;32mis\u001b[0m \u001b[1;32mNone\u001b[0m\u001b[1;33m:\u001b[0m\u001b[1;33m\u001b[0m\u001b[0m\n\u001b[0;32m   1131\u001b[0m       return self._do_call(_run_fn, self._session, feed_dict, fetch_list,\n\u001b[1;32m-> 1132\u001b[1;33m                            target_list, options, run_metadata)\n\u001b[0m\u001b[0;32m   1133\u001b[0m     \u001b[1;32melse\u001b[0m\u001b[1;33m:\u001b[0m\u001b[1;33m\u001b[0m\u001b[0m\n\u001b[0;32m   1134\u001b[0m       return self._do_call(_prun_fn, self._session, handle, feed_dict,\n",
      "\u001b[1;32mD:\\Anaconda3\\envs\\dlwin36\\lib\\site-packages\\tensorflow\\python\\client\\session.py\u001b[0m in \u001b[0;36m_do_call\u001b[1;34m(self, fn, *args)\u001b[0m\n\u001b[0;32m   1150\u001b[0m         \u001b[1;32mexcept\u001b[0m \u001b[0mKeyError\u001b[0m\u001b[1;33m:\u001b[0m\u001b[1;33m\u001b[0m\u001b[0m\n\u001b[0;32m   1151\u001b[0m           \u001b[1;32mpass\u001b[0m\u001b[1;33m\u001b[0m\u001b[0m\n\u001b[1;32m-> 1152\u001b[1;33m       \u001b[1;32mraise\u001b[0m \u001b[0mtype\u001b[0m\u001b[1;33m(\u001b[0m\u001b[0me\u001b[0m\u001b[1;33m)\u001b[0m\u001b[1;33m(\u001b[0m\u001b[0mnode_def\u001b[0m\u001b[1;33m,\u001b[0m \u001b[0mop\u001b[0m\u001b[1;33m,\u001b[0m \u001b[0mmessage\u001b[0m\u001b[1;33m)\u001b[0m\u001b[1;33m\u001b[0m\u001b[0m\n\u001b[0m\u001b[0;32m   1153\u001b[0m \u001b[1;33m\u001b[0m\u001b[0m\n\u001b[0;32m   1154\u001b[0m   \u001b[1;32mdef\u001b[0m \u001b[0m_extend_graph\u001b[0m\u001b[1;33m(\u001b[0m\u001b[0mself\u001b[0m\u001b[1;33m)\u001b[0m\u001b[1;33m:\u001b[0m\u001b[1;33m\u001b[0m\u001b[0m\n",
      "\u001b[1;31mResourceExhaustedError\u001b[0m: OOM when allocating tensor with shape[3639,3638]\n\t [[Node: mul_523 = Mul[T=DT_FLOAT, _device=\"/job:localhost/replica:0/task:0/cpu:0\"](sub_315, gradients_12/dense_62/MatMul_grad/MatMul_1)]]\n\nCaused by op 'mul_523', defined at:\n  File \"D:\\Anaconda3\\envs\\dlwin36\\lib\\runpy.py\", line 193, in _run_module_as_main\n    \"__main__\", mod_spec)\n  File \"D:\\Anaconda3\\envs\\dlwin36\\lib\\runpy.py\", line 85, in _run_code\n    exec(code, run_globals)\n  File \"D:\\Anaconda3\\envs\\dlwin36\\lib\\site-packages\\ipykernel_launcher.py\", line 16, in <module>\n    app.launch_new_instance()\n  File \"D:\\Anaconda3\\envs\\dlwin36\\lib\\site-packages\\traitlets\\config\\application.py\", line 658, in launch_instance\n    app.start()\n  File \"D:\\Anaconda3\\envs\\dlwin36\\lib\\site-packages\\ipykernel\\kernelapp.py\", line 477, in start\n    ioloop.IOLoop.instance().start()\n  File \"D:\\Anaconda3\\envs\\dlwin36\\lib\\site-packages\\zmq\\eventloop\\ioloop.py\", line 177, in start\n    super(ZMQIOLoop, self).start()\n  File \"D:\\Anaconda3\\envs\\dlwin36\\lib\\site-packages\\tornado\\ioloop.py\", line 888, in start\n    handler_func(fd_obj, events)\n  File \"D:\\Anaconda3\\envs\\dlwin36\\lib\\site-packages\\tornado\\stack_context.py\", line 277, in null_wrapper\n    return fn(*args, **kwargs)\n  File \"D:\\Anaconda3\\envs\\dlwin36\\lib\\site-packages\\zmq\\eventloop\\zmqstream.py\", line 440, in _handle_events\n    self._handle_recv()\n  File \"D:\\Anaconda3\\envs\\dlwin36\\lib\\site-packages\\zmq\\eventloop\\zmqstream.py\", line 472, in _handle_recv\n    self._run_callback(callback, msg)\n  File \"D:\\Anaconda3\\envs\\dlwin36\\lib\\site-packages\\zmq\\eventloop\\zmqstream.py\", line 414, in _run_callback\n    callback(*args, **kwargs)\n  File \"D:\\Anaconda3\\envs\\dlwin36\\lib\\site-packages\\tornado\\stack_context.py\", line 277, in null_wrapper\n    return fn(*args, **kwargs)\n  File \"D:\\Anaconda3\\envs\\dlwin36\\lib\\site-packages\\ipykernel\\kernelbase.py\", line 283, in dispatcher\n    return self.dispatch_shell(stream, msg)\n  File \"D:\\Anaconda3\\envs\\dlwin36\\lib\\site-packages\\ipykernel\\kernelbase.py\", line 235, in dispatch_shell\n    handler(stream, idents, msg)\n  File \"D:\\Anaconda3\\envs\\dlwin36\\lib\\site-packages\\ipykernel\\kernelbase.py\", line 399, in execute_request\n    user_expressions, allow_stdin)\n  File \"D:\\Anaconda3\\envs\\dlwin36\\lib\\site-packages\\ipykernel\\ipkernel.py\", line 196, in do_execute\n    res = shell.run_cell(code, store_history=store_history, silent=silent)\n  File \"D:\\Anaconda3\\envs\\dlwin36\\lib\\site-packages\\ipykernel\\zmqshell.py\", line 533, in run_cell\n    return super(ZMQInteractiveShell, self).run_cell(*args, **kwargs)\n  File \"D:\\Anaconda3\\envs\\dlwin36\\lib\\site-packages\\IPython\\core\\interactiveshell.py\", line 2698, in run_cell\n    interactivity=interactivity, compiler=compiler, result=result)\n  File \"D:\\Anaconda3\\envs\\dlwin36\\lib\\site-packages\\IPython\\core\\interactiveshell.py\", line 2808, in run_ast_nodes\n    if self.run_code(code, result):\n  File \"D:\\Anaconda3\\envs\\dlwin36\\lib\\site-packages\\IPython\\core\\interactiveshell.py\", line 2862, in run_code\n    exec(code_obj, self.user_global_ns, self.user_ns)\n  File \"<ipython-input-60-3682969d6ad7>\", line 2, in <module>\n    model.fit(X, dummy_train, batch_size=50, epochs=3000, validation_data=(X_test, dummy_test), callbacks=callbacks)\n  File \"D:\\Anaconda3\\envs\\dlwin36\\lib\\site-packages\\keras\\models.py\", line 870, in fit\n    initial_epoch=initial_epoch)\n  File \"D:\\Anaconda3\\envs\\dlwin36\\lib\\site-packages\\keras\\engine\\training.py\", line 1490, in fit\n    self._make_train_function()\n  File \"D:\\Anaconda3\\envs\\dlwin36\\lib\\site-packages\\keras\\engine\\training.py\", line 1014, in _make_train_function\n    self.total_loss)\n  File \"D:\\Anaconda3\\envs\\dlwin36\\lib\\site-packages\\keras\\optimizers.py\", line 422, in get_updates\n    m_t = (self.beta_1 * m) + (1. - self.beta_1) * g\n  File \"D:\\Anaconda3\\envs\\dlwin36\\lib\\site-packages\\tensorflow\\python\\ops\\math_ops.py\", line 838, in binary_op_wrapper\n    return func(x, y, name=name)\n  File \"D:\\Anaconda3\\envs\\dlwin36\\lib\\site-packages\\tensorflow\\python\\ops\\math_ops.py\", line 1061, in _mul_dispatch\n    return gen_math_ops._mul(x, y, name=name)\n  File \"D:\\Anaconda3\\envs\\dlwin36\\lib\\site-packages\\tensorflow\\python\\ops\\gen_math_ops.py\", line 1377, in _mul\n    result = _op_def_lib.apply_op(\"Mul\", x=x, y=y, name=name)\n  File \"D:\\Anaconda3\\envs\\dlwin36\\lib\\site-packages\\tensorflow\\python\\framework\\op_def_library.py\", line 767, in apply_op\n    op_def=op_def)\n  File \"D:\\Anaconda3\\envs\\dlwin36\\lib\\site-packages\\tensorflow\\python\\framework\\ops.py\", line 2506, in create_op\n    original_op=self._default_original_op, op_def=op_def)\n  File \"D:\\Anaconda3\\envs\\dlwin36\\lib\\site-packages\\tensorflow\\python\\framework\\ops.py\", line 1269, in __init__\n    self._traceback = _extract_stack()\n\nResourceExhaustedError (see above for traceback): OOM when allocating tensor with shape[3639,3638]\n\t [[Node: mul_523 = Mul[T=DT_FLOAT, _device=\"/job:localhost/replica:0/task:0/cpu:0\"](sub_315, gradients_12/dense_62/MatMul_grad/MatMul_1)]]\n"
     ]
    }
   ],
   "source": [
    "model = baseline_model()\n",
    "model.fit(X, dummy_train, batch_size=50, epochs=3000, validation_data=(X_test, dummy_test), callbacks=callbacks)"
   ]
  },
  {
   "cell_type": "code",
   "execution_count": null,
   "metadata": {},
   "outputs": [],
   "source": [
    "score = model.evaluate(X_test, dummy_y_test, batch_size=32)\n",
    "\n",
    "print('Accuracy score = {}'.format(score))"
   ]
  },
  {
   "cell_type": "code",
   "execution_count": 54,
   "metadata": {},
   "outputs": [
    {
     "data": {
      "text/plain": [
       "0.873"
      ]
     },
     "execution_count": 54,
     "metadata": {},
     "output_type": "execute_result"
    }
   ],
   "source": [
    "pred = model.predict(X_test)\n",
    "corrected_pred = uniques_test[numpy.round(pred).argmax(1)]\n",
    "accuracy_score(Y_test, corrected_pred)"
   ]
  },
  {
   "cell_type": "code",
   "execution_count": 20,
   "metadata": {},
   "outputs": [
    {
     "name": "stdout",
     "output_type": "stream",
     "text": [
      "Count of 1 = 1979\n",
      "Count of 0 = 262021\n"
     ]
    }
   ],
   "source": [
    "round_pred = numpy.round(pred)\n",
    "count_0 = 0\n",
    "count_1 = 0\n",
    "for i in numpy.nditer(round_pred):\n",
    "    if i == 1:\n",
    "        count_1 = count_1 + 1\n",
    "    else:\n",
    "        count_0 = count_0 + 1\n",
    "print(\"Count of 1 = {}\".format(count_1))\n",
    "print(\"Count of 0 = {}\".format(count_0))\n"
   ]
  },
  {
   "cell_type": "raw",
   "metadata": {},
   "source": [
    "pred"
   ]
  },
  {
   "cell_type": "code",
   "execution_count": null,
   "metadata": {},
   "outputs": [],
   "source": [
    "import xgboost as xgb\n",
    "# Support Vector Machines\n",
    "for i in range(1,150):\n",
    "    for j in range(1,15):\n",
    "        param_dist = {'n_estimators':i, 'nthread':22, 'max_depth':j}\n",
    "        xg = xgb.XGBClassifier(**param_dist)\n",
    "        xg.fit(X_train, Y_train, verbose=True)\n",
    "        X_test_ref = X_test.drop('user_id', axis=1)\n",
    "        Y_pred  = xg.predict(X_test_ref)\n",
    "        print \"accuracy {} with parameters {}\".format(accuracy_score(Y_test, Y_pred), param_dist)"
   ]
  },
  {
   "cell_type": "code",
   "execution_count": null,
   "metadata": {
    "collapsed": true
   },
   "outputs": [],
   "source": [
    "X_test_ref = X_test.drop('user_id', axis=1)\n",
    "xg_train = xgb.DMatrix(X_train.values, label=Y_train.values)\n",
    "xg_test = xgb.DMatrix(X_test_ref.values, label=Y_test)\n",
    "# setup parameters for xgboost\n",
    "param = {}\n",
    "# use softmax multi-class classification\n",
    "param['objective'] = 'multi:softmax'\n",
    "# scale weight of positive examples\n",
    "param['eta'] = 0.1\n",
    "param['max_depth'] = 6\n",
    "param['silent'] = 1\n",
    "param['nthread'] = 4\n",
    "param['num_class'] = len(dataframe['search_marka'].unique())\n",
    "\n",
    "watchlist = [(xg_train, 'train'), (xg_test, 'test')]\n",
    "num_round = 5\n",
    "bst = xgb.train(param, xg_train, num_round, watchlist)\n",
    "# get prediction\n",
    "pred = bst.predict(xg_test)\n",
    "error_rate = np.sum(pred != Y_test) / Y_test.shape[0]\n",
    "print('Test error using softmax = {}'.format(error_rate))"
   ]
  },
  {
   "cell_type": "code",
   "execution_count": 27,
   "metadata": {},
   "outputs": [
    {
     "name": "stdout",
     "output_type": "stream",
     "text": [
      "training finished in 0 seconds\n"
     ]
    },
    {
     "data": {
      "text/plain": [
       "0.016666666666666666"
      ]
     },
     "execution_count": 27,
     "metadata": {},
     "output_type": "execute_result"
    }
   ],
   "source": [
    "# Support Vector Machines\n",
    "xg = rfc()\n",
    "d3 = datetime.now()\n",
    "xg.fit(X_train, Y_train)\n",
    "d4 = datetime.now()\n",
    "delta1 = d4 - d3\n",
    "print \"training finished in \" + str(delta1.seconds) + \" seconds\"\n",
    "X_test_rfc_ref = X_test.drop('user_id', axis=1)\n",
    "Y_rfc_pred  = xg.predict(X_test_rfc_ref)\n",
    "\n",
    "submission_rfc = pd.DataFrame({\n",
    "         \"user_id\": X_test[\"user_id\"],\n",
    "         \"search_marka\": Y_rfc_pred\n",
    "     })\n",
    "submission_rfc.to_csv('resource/results_RFC.csv', index=False)\n",
    "accuracy_score(Y_test, Y_rfc_pred)"
   ]
  },
  {
   "cell_type": "code",
   "execution_count": 20,
   "metadata": {},
   "outputs": [
    {
     "ename": "TypeError",
     "evalue": "transform() takes exactly 2 arguments (3 given)",
     "output_type": "error",
     "traceback": [
      "\u001b[0;31m---------------------------------------------------------------------------\u001b[0m",
      "\u001b[0;31mTypeError\u001b[0m                                 Traceback (most recent call last)",
      "\u001b[0;32m<ipython-input-20-45c6ec862808>\u001b[0m in \u001b[0;36m<module>\u001b[0;34m()\u001b[0m\n\u001b[1;32m      1\u001b[0m \u001b[0menc\u001b[0m \u001b[1;33m=\u001b[0m \u001b[0mohe\u001b[0m\u001b[1;33m(\u001b[0m\u001b[1;33m)\u001b[0m\u001b[1;33m\u001b[0m\u001b[0m\n\u001b[0;32m----> 2\u001b[0;31m \u001b[0menc\u001b[0m\u001b[1;33m.\u001b[0m\u001b[0mtransform\u001b[0m\u001b[1;33m(\u001b[0m\u001b[0mdataframe\u001b[0m\u001b[1;33m[\u001b[0m\u001b[1;34m'search_marka'\u001b[0m\u001b[1;33m]\u001b[0m\u001b[1;33m,\u001b[0m \u001b[0mdataframe\u001b[0m\u001b[1;33m[\u001b[0m\u001b[1;34m'search_model'\u001b[0m\u001b[1;33m]\u001b[0m\u001b[1;33m)\u001b[0m\u001b[1;33m\u001b[0m\u001b[0m\n\u001b[0m",
      "\u001b[0;31mTypeError\u001b[0m: transform() takes exactly 2 arguments (3 given)"
     ]
    }
   ],
   "source": [
    "enc = ohe()\n",
    "enc.transform(dataframe['search_marka'], dataframe['search_model'])"
   ]
  },
  {
   "cell_type": "code",
   "execution_count": 25,
   "metadata": {},
   "outputs": [
    {
     "data": {
      "text/plain": [
       "0.97997496871088863"
      ]
     },
     "execution_count": 25,
     "metadata": {},
     "output_type": "execute_result"
    }
   ],
   "source": [
    "Y_pred  = xg.predict(X_train)\n",
    "\n",
    "submission = pd.DataFrame({\n",
    "         \"user_id\": X_train[\"user_id\"],\n",
    "         \"search_marka\": Y_pred\n",
    "     })\n",
    "submission.to_csv('resource/results_XGB.csv', index=False)\n",
    "xg.score(X_train, Y_train)"
   ]
  },
  {
   "cell_type": "code",
   "execution_count": 26,
   "metadata": {},
   "outputs": [
    {
     "ename": "TypeError",
     "evalue": "plot_histograms() takes exactly 4 arguments (1 given)",
     "output_type": "error",
     "traceback": [
      "\u001b[0;31m---------------------------------------------------------------------------\u001b[0m",
      "\u001b[0;31mTypeError\u001b[0m                                 Traceback (most recent call last)",
      "\u001b[0;32m<ipython-input-26-e08f45a664f1>\u001b[0m in \u001b[0;36m<module>\u001b[0;34m()\u001b[0m\n\u001b[1;32m      1\u001b[0m \u001b[0mresult\u001b[0m \u001b[1;33m=\u001b[0m \u001b[0mpreprocessing\u001b[0m\u001b[1;33m.\u001b[0m\u001b[0mscale\u001b[0m\u001b[1;33m(\u001b[0m\u001b[0mdataframe\u001b[0m\u001b[1;33m[\u001b[0m\u001b[1;34m'search_year_from'\u001b[0m\u001b[1;33m]\u001b[0m\u001b[1;33m)\u001b[0m\u001b[1;33m\u001b[0m\u001b[0m\n\u001b[0;32m----> 2\u001b[0;31m \u001b[0mplot_histograms\u001b[0m\u001b[1;33m(\u001b[0m\u001b[0mresult\u001b[0m\u001b[1;33m)\u001b[0m\u001b[1;33m\u001b[0m\u001b[0m\n\u001b[0m",
      "\u001b[0;31mTypeError\u001b[0m: plot_histograms() takes exactly 4 arguments (1 given)"
     ]
    }
   ],
   "source": [
    "result = preprocessing.scale(dataframe['search_year_from'])\n",
    "plot_histograms(result)"
   ]
  },
  {
   "cell_type": "code",
   "execution_count": 17,
   "metadata": {},
   "outputs": [
    {
     "data": {
      "text/plain": [
       "132"
      ]
     },
     "execution_count": 17,
     "metadata": {},
     "output_type": "execute_result"
    }
   ],
   "source": [
    "len(dataframe['search_marka'].unique())"
   ]
  },
  {
   "cell_type": "code",
   "execution_count": 18,
   "metadata": {},
   "outputs": [
    {
     "data": {
      "text/plain": [
       "last_login             int64\n",
       "search_body            int32\n",
       "search_city            int32\n",
       "search_country         int32\n",
       "search_model           int32\n",
       "search_rigion          int32\n",
       "search_transmission    int32\n",
       "search_wheel           int32\n",
       "search_volume          int32\n",
       "search_milleage        int32\n",
       "search_price           int32\n",
       "search_year            int32\n",
       "a                      int32\n",
       "b                      int32\n",
       "c                      int32\n",
       "d                      int32\n",
       "f                      int32\n",
       "e                      int32\n",
       "dtype: object"
      ]
     },
     "execution_count": 18,
     "metadata": {},
     "output_type": "execute_result"
    }
   ],
   "source": [
    "X_train.dtypes"
   ]
  },
  {
   "cell_type": "code",
   "execution_count": 12,
   "metadata": {},
   "outputs": [
    {
     "name": "stdout",
     "output_type": "stream",
     "text": [
      "     last_login  search_body  search_city  search_country  search_marka  \\\n",
      "0             2            5           17               1            96   \n",
      "1             2            5           14               1            26   \n",
      "2             0            1            2               2            70   \n",
      "3             1            8           17               2           100   \n",
      "4             2            8           10               2            71   \n",
      "5             3            7           23               2            41   \n",
      "6             3            2           53               2            78   \n",
      "7             1            3           14               2            45   \n",
      "8             0            1           32               2           126   \n",
      "9             0            6            1               1           103   \n",
      "10            3           10            1               1            31   \n",
      "11            3            8            1               1           131   \n",
      "12            0            5           13               1           129   \n",
      "13            2           11            1               1            14   \n",
      "14            0            6            4               2            96   \n",
      "15            1            9            6               1            61   \n",
      "16            3            8            5               1            37   \n",
      "17            2            2            3               1            56   \n",
      "18            1           10            1               2            83   \n",
      "19            1            4            2               1            57   \n",
      "20            1            7           35               2           118   \n",
      "21            1            2            4               1           121   \n",
      "22            2            3           14               2           107   \n",
      "23            3            9            6               1            14   \n",
      "24            3            9            9               1           101   \n",
      "25            2            7           24               1           112   \n",
      "26            3            8           51               2            87   \n",
      "27            1            2           35               2            84   \n",
      "28            3            7           13               1            29   \n",
      "29            2           10           16               2           100   \n",
      "..          ...          ...          ...             ...           ...   \n",
      "269           3            6           19               1           101   \n",
      "270           2            8           18               1            36   \n",
      "271           2            1           24               1            28   \n",
      "272           1           11            1               1            80   \n",
      "273           3            1           11               1            69   \n",
      "274           2           11            5               2            96   \n",
      "275           1            1           13               1            45   \n",
      "276           0            6           11               1           115   \n",
      "277           1            5            1               2             5   \n",
      "278           1            6           44               2            89   \n",
      "279           2            7            2               2            59   \n",
      "280           3            7            7               2            31   \n",
      "281           2            1           18               2           123   \n",
      "282           1           10           15               1            14   \n",
      "283           0           10            1               2           107   \n",
      "284           1           11            2               2            61   \n",
      "285           2            7           11               1            52   \n",
      "286           0           11           19               2            28   \n",
      "287           0           11           27               2            91   \n",
      "288           2            9            4               2            21   \n",
      "289           2            1            4               2            61   \n",
      "290           0            4            4               1             6   \n",
      "291           2            9            8               2           120   \n",
      "292           1            3            8               1            16   \n",
      "293           0            6           85               2            84   \n",
      "294           3            2           20               1            11   \n",
      "295           0            8           22               1            35   \n",
      "296           0            7            1               1            42   \n",
      "297           1            8            1               1           129   \n",
      "298           1           10           26               1           105   \n",
      "\n",
      "     search_model  search_rigion  search_transmission  search_wheel  user_id  \\\n",
      "0               3              2                    1             2        1   \n",
      "1               3              3                    1             1        2   \n",
      "2              82             50                    1             3        3   \n",
      "3               1             39                    1             2        4   \n",
      "4               7             48                    1             1        5   \n",
      "5               7             51                    2             3        6   \n",
      "6              27             28                    1             2        7   \n",
      "7               2             80                    1             3        8   \n",
      "8               7             15                    1             1        9   \n",
      "9               8              1                    1             1       10   \n",
      "10              1              1                    2             3       11   \n",
      "11              2              1                    2             1       12   \n",
      "12              3              6                    1             2       13   \n",
      "13              1              1                    2             3       14   \n",
      "14             10             10                    1             2       15   \n",
      "15              2              6                    1             1       16   \n",
      "16              2              7                    1             2       17   \n",
      "17              1              7                    1             2       18   \n",
      "18             16             14                    1             1       19   \n",
      "19              1              4                    1             2       20   \n",
      "20              2             30                    1             1       21   \n",
      "21              1              6                    2             2       22   \n",
      "22             90             77                    1             3       23   \n",
      "23              2              7                    2             3       24   \n",
      "24              5              7                    1             3       25   \n",
      "25              5              2                    1             2       26   \n",
      "26              9             65                    1             1       27   \n",
      "27              3             11                    1             3       28   \n",
      "28             16              5                    2             1       29   \n",
      "29              1             45                    2             3       30   \n",
      "..            ...            ...                  ...           ...      ...   \n",
      "269             6              5                    2             2      270   \n",
      "270             3              3                    2             2      271   \n",
      "271             2              2                    1             1      272   \n",
      "272             1              3                    2             1      273   \n",
      "273            15              7                    1             2      274   \n",
      "274             4             20                    2             3      275   \n",
      "275            74              5                    2             3      276   \n",
      "276             1              7                    1             2      277   \n",
      "277             2             41                    2             3      278   \n",
      "278             2              6                    2             1      279   \n",
      "279             1             45                    2             3      280   \n",
      "280             1             76                    1             1      281   \n",
      "281             2             35                    2             2      282   \n",
      "282             1              7                    2             3      283   \n",
      "283             3              2                    1             3      284   \n",
      "284             2             26                    2             1      285   \n",
      "285             4              4                    1             1      286   \n",
      "286             1             43                    2             2      287   \n",
      "287             4             61                    1             2      288   \n",
      "288            17             19                    2             2      289   \n",
      "289             2             17                    2             1      290   \n",
      "290            10              4                    1             1      291   \n",
      "291             1             24                    2             1      292   \n",
      "292             2              6                    2             1      293   \n",
      "293            11             31                    2             2      294   \n",
      "294             3              6                    1             2      295   \n",
      "295             1              4                    1             2      296   \n",
      "296             1              1                    1             2      297   \n",
      "297             2              2                    1             1      298   \n",
      "298             3              4                    1             3      299   \n",
      "\n",
      "     search_volume  search_milleage  search_price  search_year  \n",
      "0                0                3             3            3  \n",
      "1                0                3             2            2  \n",
      "2                0                1             0            1  \n",
      "3                3                1             2            2  \n",
      "4                2                0             3            1  \n",
      "5                1                2             1            1  \n",
      "6                1                2             1            3  \n",
      "7                3                2             2            3  \n",
      "8                0                3             2            1  \n",
      "9                1                1             3            0  \n",
      "10               3                1             3            2  \n",
      "11               1                0             1            3  \n",
      "12               1                2             2            2  \n",
      "13               3                0             0            3  \n",
      "14               0                1             3            0  \n",
      "15               2                3             3            3  \n",
      "16               1                2             3            2  \n",
      "17               0                1             2            2  \n",
      "18               3                3             0            3  \n",
      "19               2                3             2            2  \n",
      "20               3                3             3            2  \n",
      "21               0                3             3            1  \n",
      "22               1                0             0            1  \n",
      "23               3                2             3            0  \n",
      "24               3                2             3            0  \n",
      "25               0                1             2            2  \n",
      "26               1                1             2            0  \n",
      "27               1                2             3            0  \n",
      "28               3                0             3            3  \n",
      "29               1                3             2            0  \n",
      "..             ...              ...           ...          ...  \n",
      "269              1                2             3            3  \n",
      "270              0                1             2            0  \n",
      "271              1                2             3            2  \n",
      "272              2                1             1            1  \n",
      "273              1                3             1            2  \n",
      "274              2                1             2            1  \n",
      "275              0                0             3            1  \n",
      "276              1                2             1            3  \n",
      "277              0                2             2            0  \n",
      "278              2                0             2            3  \n",
      "279              1                1             3            0  \n",
      "280              0                0             2            1  \n",
      "281              0                3             1            3  \n",
      "282              1                1             0            1  \n",
      "283              0                3             3            1  \n",
      "284              1                0             3            1  \n",
      "285              2                0             0            2  \n",
      "286              0                3             0            1  \n",
      "287              1                0             1            0  \n",
      "288              2                1             2            0  \n",
      "289              0                3             2            1  \n",
      "290              1                2             1            3  \n",
      "291              0                3             2            0  \n",
      "292              2                2             2            2  \n",
      "293              3                0             3            1  \n",
      "294              3                1             1            2  \n",
      "295              0                3             3            3  \n",
      "296              3                1             0            3  \n",
      "297              3                0             0            3  \n",
      "298              3                0             2            2  \n",
      "\n",
      "[299 rows x 14 columns]\n"
     ]
    }
   ],
   "source": [
    "printer = PrettyPrinter()\n",
    "printer.pprint(dataframe)"
   ]
  },
  {
   "cell_type": "code",
   "execution_count": null,
   "metadata": {
    "collapsed": true
   },
   "outputs": [],
   "source": [
    "plot_correlation_map( dataframe )"
   ]
  },
  {
   "cell_type": "code",
   "execution_count": 5,
   "metadata": {},
   "outputs": [
    {
     "data": {
      "text/html": [
       "<div>\n",
       "<style>\n",
       "    .dataframe thead tr:only-child th {\n",
       "        text-align: right;\n",
       "    }\n",
       "\n",
       "    .dataframe thead th {\n",
       "        text-align: left;\n",
       "    }\n",
       "\n",
       "    .dataframe tbody tr th {\n",
       "        vertical-align: top;\n",
       "    }\n",
       "</style>\n",
       "<table border=\"1\" class=\"dataframe\">\n",
       "  <thead>\n",
       "    <tr style=\"text-align: right;\">\n",
       "      <th></th>\n",
       "      <th>last_login</th>\n",
       "      <th>search_milleage_from</th>\n",
       "      <th>search_milleage_to</th>\n",
       "      <th>search_price_from</th>\n",
       "      <th>search_price_to</th>\n",
       "      <th>search_volume_from</th>\n",
       "      <th>search_volume_to</th>\n",
       "      <th>search_year_from</th>\n",
       "      <th>search_year_to</th>\n",
       "      <th>user_id</th>\n",
       "      <th>search_volume</th>\n",
       "      <th>search_milleage</th>\n",
       "      <th>search_price</th>\n",
       "      <th>search_year</th>\n",
       "    </tr>\n",
       "  </thead>\n",
       "  <tbody>\n",
       "    <tr>\n",
       "      <th>count</th>\n",
       "      <td>2.990000e+02</td>\n",
       "      <td>299.000000</td>\n",
       "      <td>299.000000</td>\n",
       "      <td>299.000000</td>\n",
       "      <td>299.000000</td>\n",
       "      <td>299.000000</td>\n",
       "      <td>299.000000</td>\n",
       "      <td>299.000000</td>\n",
       "      <td>299.000000</td>\n",
       "      <td>299.000000</td>\n",
       "      <td>299.000000</td>\n",
       "      <td>299.000000</td>\n",
       "      <td>299.000000</td>\n",
       "      <td>299.000000</td>\n",
       "    </tr>\n",
       "    <tr>\n",
       "      <th>mean</th>\n",
       "      <td>1.347289e+09</td>\n",
       "      <td>488465.541806</td>\n",
       "      <td>742932.829431</td>\n",
       "      <td>200902.591973</td>\n",
       "      <td>303719.210702</td>\n",
       "      <td>3930.284281</td>\n",
       "      <td>6108.317726</td>\n",
       "      <td>1987.324415</td>\n",
       "      <td>2001.558528</td>\n",
       "      <td>150.000000</td>\n",
       "      <td>5019.301003</td>\n",
       "      <td>615699.185619</td>\n",
       "      <td>252310.901338</td>\n",
       "      <td>1994.441472</td>\n",
       "    </tr>\n",
       "    <tr>\n",
       "      <th>std</th>\n",
       "      <td>8.776082e+07</td>\n",
       "      <td>291487.259417</td>\n",
       "      <td>223817.709339</td>\n",
       "      <td>116748.924709</td>\n",
       "      <td>88933.634518</td>\n",
       "      <td>2352.715403</td>\n",
       "      <td>1773.052419</td>\n",
       "      <td>16.234805</td>\n",
       "      <td>12.148373</td>\n",
       "      <td>86.458082</td>\n",
       "      <td>1865.765792</td>\n",
       "      <td>234020.185247</td>\n",
       "      <td>93562.283804</td>\n",
       "      <td>12.813351</td>\n",
       "    </tr>\n",
       "    <tr>\n",
       "      <th>min</th>\n",
       "      <td>1.201130e+09</td>\n",
       "      <td>2651.000000</td>\n",
       "      <td>83537.000000</td>\n",
       "      <td>949.000000</td>\n",
       "      <td>2488.000000</td>\n",
       "      <td>42.000000</td>\n",
       "      <td>465.000000</td>\n",
       "      <td>1960.000000</td>\n",
       "      <td>1963.000000</td>\n",
       "      <td>1.000000</td>\n",
       "      <td>451.500000</td>\n",
       "      <td>53586.000000</td>\n",
       "      <td>2210.000000</td>\n",
       "      <td>1961.500000</td>\n",
       "    </tr>\n",
       "    <tr>\n",
       "      <th>25%</th>\n",
       "      <td>1.274145e+09</td>\n",
       "      <td>244253.000000</td>\n",
       "      <td>609723.000000</td>\n",
       "      <td>103131.500000</td>\n",
       "      <td>247352.000000</td>\n",
       "      <td>1823.000000</td>\n",
       "      <td>5413.000000</td>\n",
       "      <td>1973.500000</td>\n",
       "      <td>1995.000000</td>\n",
       "      <td>75.500000</td>\n",
       "      <td>3759.500000</td>\n",
       "      <td>457799.000000</td>\n",
       "      <td>182155.000000</td>\n",
       "      <td>1985.500000</td>\n",
       "    </tr>\n",
       "    <tr>\n",
       "      <th>50%</th>\n",
       "      <td>1.351174e+09</td>\n",
       "      <td>473300.000000</td>\n",
       "      <td>797842.000000</td>\n",
       "      <td>185065.000000</td>\n",
       "      <td>332748.000000</td>\n",
       "      <td>3965.000000</td>\n",
       "      <td>6697.000000</td>\n",
       "      <td>1986.000000</td>\n",
       "      <td>2005.000000</td>\n",
       "      <td>150.000000</td>\n",
       "      <td>5172.000000</td>\n",
       "      <td>616495.000000</td>\n",
       "      <td>257996.000000</td>\n",
       "      <td>1994.500000</td>\n",
       "    </tr>\n",
       "    <tr>\n",
       "      <th>75%</th>\n",
       "      <td>1.414614e+09</td>\n",
       "      <td>728773.500000</td>\n",
       "      <td>931896.000000</td>\n",
       "      <td>305288.000000</td>\n",
       "      <td>373312.000000</td>\n",
       "      <td>5922.500000</td>\n",
       "      <td>7486.000000</td>\n",
       "      <td>2001.500000</td>\n",
       "      <td>2011.000000</td>\n",
       "      <td>224.500000</td>\n",
       "      <td>6634.250000</td>\n",
       "      <td>817742.500000</td>\n",
       "      <td>331533.250000</td>\n",
       "      <td>2005.000000</td>\n",
       "    </tr>\n",
       "    <tr>\n",
       "      <th>max</th>\n",
       "      <td>1.500867e+09</td>\n",
       "      <td>994869.000000</td>\n",
       "      <td>999148.000000</td>\n",
       "      <td>398572.000000</td>\n",
       "      <td>399883.000000</td>\n",
       "      <td>7990.000000</td>\n",
       "      <td>7998.000000</td>\n",
       "      <td>2016.000000</td>\n",
       "      <td>2016.000000</td>\n",
       "      <td>299.000000</td>\n",
       "      <td>7994.000000</td>\n",
       "      <td>995650.000000</td>\n",
       "      <td>399227.500000</td>\n",
       "      <td>2016.000000</td>\n",
       "    </tr>\n",
       "  </tbody>\n",
       "</table>\n",
       "</div>"
      ],
      "text/plain": [
       "         last_login  search_milleage_from  search_milleage_to  \\\n",
       "count  2.990000e+02            299.000000          299.000000   \n",
       "mean   1.347289e+09         488465.541806       742932.829431   \n",
       "std    8.776082e+07         291487.259417       223817.709339   \n",
       "min    1.201130e+09           2651.000000        83537.000000   \n",
       "25%    1.274145e+09         244253.000000       609723.000000   \n",
       "50%    1.351174e+09         473300.000000       797842.000000   \n",
       "75%    1.414614e+09         728773.500000       931896.000000   \n",
       "max    1.500867e+09         994869.000000       999148.000000   \n",
       "\n",
       "       search_price_from  search_price_to  search_volume_from  \\\n",
       "count         299.000000       299.000000          299.000000   \n",
       "mean       200902.591973    303719.210702         3930.284281   \n",
       "std        116748.924709     88933.634518         2352.715403   \n",
       "min           949.000000      2488.000000           42.000000   \n",
       "25%        103131.500000    247352.000000         1823.000000   \n",
       "50%        185065.000000    332748.000000         3965.000000   \n",
       "75%        305288.000000    373312.000000         5922.500000   \n",
       "max        398572.000000    399883.000000         7990.000000   \n",
       "\n",
       "       search_volume_to  search_year_from  search_year_to     user_id  \\\n",
       "count        299.000000        299.000000      299.000000  299.000000   \n",
       "mean        6108.317726       1987.324415     2001.558528  150.000000   \n",
       "std         1773.052419         16.234805       12.148373   86.458082   \n",
       "min          465.000000       1960.000000     1963.000000    1.000000   \n",
       "25%         5413.000000       1973.500000     1995.000000   75.500000   \n",
       "50%         6697.000000       1986.000000     2005.000000  150.000000   \n",
       "75%         7486.000000       2001.500000     2011.000000  224.500000   \n",
       "max         7998.000000       2016.000000     2016.000000  299.000000   \n",
       "\n",
       "       search_volume  search_milleage   search_price  search_year  \n",
       "count     299.000000       299.000000     299.000000   299.000000  \n",
       "mean     5019.301003    615699.185619  252310.901338  1994.441472  \n",
       "std      1865.765792    234020.185247   93562.283804    12.813351  \n",
       "min       451.500000     53586.000000    2210.000000  1961.500000  \n",
       "25%      3759.500000    457799.000000  182155.000000  1985.500000  \n",
       "50%      5172.000000    616495.000000  257996.000000  1994.500000  \n",
       "75%      6634.250000    817742.500000  331533.250000  2005.000000  \n",
       "max      7994.000000    995650.000000  399227.500000  2016.000000  "
      ]
     },
     "execution_count": 5,
     "metadata": {},
     "output_type": "execute_result"
    }
   ],
   "source": [
    "dataframe.describe()"
   ]
  },
  {
   "cell_type": "code",
   "execution_count": 12,
   "metadata": {},
   "outputs": [
    {
     "data": {
      "text/plain": [
       "array([[<matplotlib.axes._subplots.AxesSubplot object at 0x000000000E528FD0>,\n",
       "        <matplotlib.axes._subplots.AxesSubplot object at 0x000000000E746A20>,\n",
       "        <matplotlib.axes._subplots.AxesSubplot object at 0x000000000E846588>,\n",
       "        <matplotlib.axes._subplots.AxesSubplot object at 0x000000000EAE50F0>],\n",
       "       [<matplotlib.axes._subplots.AxesSubplot object at 0x00000000104C7748>,\n",
       "        <matplotlib.axes._subplots.AxesSubplot object at 0x0000000010591240>,\n",
       "        <matplotlib.axes._subplots.AxesSubplot object at 0x0000000010641390>,\n",
       "        <matplotlib.axes._subplots.AxesSubplot object at 0x000000001073DDA0>],\n",
       "       [<matplotlib.axes._subplots.AxesSubplot object at 0x00000000108304A8>,\n",
       "        <matplotlib.axes._subplots.AxesSubplot object at 0x00000000108F3F60>,\n",
       "        <matplotlib.axes._subplots.AxesSubplot object at 0x00000000109A84E0>,\n",
       "        <matplotlib.axes._subplots.AxesSubplot object at 0x0000000010AB3080>],\n",
       "       [<matplotlib.axes._subplots.AxesSubplot object at 0x0000000010B568D0>,\n",
       "        <matplotlib.axes._subplots.AxesSubplot object at 0x0000000010C5F518>,\n",
       "        <matplotlib.axes._subplots.AxesSubplot object at 0x0000000010BB4128>,\n",
       "        <matplotlib.axes._subplots.AxesSubplot object at 0x0000000010E14400>],\n",
       "       [<matplotlib.axes._subplots.AxesSubplot object at 0x0000000010ECFEB8>,\n",
       "        <matplotlib.axes._subplots.AxesSubplot object at 0x0000000011001F60>,\n",
       "        <matplotlib.axes._subplots.AxesSubplot object at 0x00000000110CB9B0>,\n",
       "        <matplotlib.axes._subplots.AxesSubplot object at 0x000000000D2187B8>]], dtype=object)"
      ]
     },
     "execution_count": 12,
     "metadata": {},
     "output_type": "execute_result"
    },
    {
     "data": {
      "image/png": "[encoded data removed]",
      "text/plain": [
       "<matplotlib.figure.Figure at 0xe575b38>"
      ]
     },
     "metadata": {},
     "output_type": "display_data"
    }
   ],
   "source": [
    "pandas.DataFrame.hist(dataframe)"
   ]
  },
  {
   "cell_type": "code",
   "execution_count": 57,
   "metadata": {},
   "outputs": [
    {
     "ename": "TypeError",
     "evalue": "type numpy.ndarray doesn't define __round__ method",
     "output_type": "error",
     "traceback": [
      "\u001b[1;31m---------------------------------------------------------------------------\u001b[0m",
      "\u001b[1;31mTypeError\u001b[0m                                 Traceback (most recent call last)",
      "\u001b[1;32m<ipython-input-57-75314aa7cbfc>\u001b[0m in \u001b[0;36m<module>\u001b[1;34m()\u001b[0m\n\u001b[1;32m----> 1\u001b[1;33m \u001b[0mY_pred_rnd\u001b[0m \u001b[1;33m=\u001b[0m \u001b[0mround\u001b[0m\u001b[1;33m(\u001b[0m\u001b[0mY_pred\u001b[0m\u001b[1;33m)\u001b[0m\u001b[1;33m\u001b[0m\u001b[0m\n\u001b[0m",
      "\u001b[1;31mTypeError\u001b[0m: type numpy.ndarray doesn't define __round__ method"
     ]
    }
   ],
   "source": [
    "Y_pred_rnd = round(Y_pred)"
   ]
  },
  {
   "cell_type": "code",
   "execution_count": 16,
   "metadata": {},
   "outputs": [
    {
     "data": {
      "text/html": [
       "<div>\n",
       "<style>\n",
       "    .dataframe thead tr:only-child th {\n",
       "        text-align: right;\n",
       "    }\n",
       "\n",
       "    .dataframe thead th {\n",
       "        text-align: left;\n",
       "    }\n",
       "\n",
       "    .dataframe tbody tr th {\n",
       "        vertical-align: top;\n",
       "    }\n",
       "</style>\n",
       "<table border=\"1\" class=\"dataframe\">\n",
       "  <thead>\n",
       "    <tr style=\"text-align: right;\">\n",
       "      <th></th>\n",
       "      <th>last_login</th>\n",
       "      <th>search_body</th>\n",
       "      <th>search_country</th>\n",
       "      <th>search_marka</th>\n",
       "      <th>search_transmission</th>\n",
       "      <th>search_wheel</th>\n",
       "      <th>user_id</th>\n",
       "      <th>search_volume</th>\n",
       "      <th>search_milleage</th>\n",
       "      <th>search_price</th>\n",
       "    </tr>\n",
       "  </thead>\n",
       "  <tbody>\n",
       "    <tr>\n",
       "      <th>last_login</th>\n",
       "      <td>1.000000</td>\n",
       "      <td>-0.115474</td>\n",
       "      <td>0.022384</td>\n",
       "      <td>-0.071284</td>\n",
       "      <td>-0.046494</td>\n",
       "      <td>-0.020060</td>\n",
       "      <td>-0.017998</td>\n",
       "      <td>NaN</td>\n",
       "      <td>NaN</td>\n",
       "      <td>NaN</td>\n",
       "    </tr>\n",
       "    <tr>\n",
       "      <th>search_body</th>\n",
       "      <td>-0.115474</td>\n",
       "      <td>1.000000</td>\n",
       "      <td>-0.001915</td>\n",
       "      <td>-0.055928</td>\n",
       "      <td>-0.049403</td>\n",
       "      <td>-0.033310</td>\n",
       "      <td>-0.036047</td>\n",
       "      <td>NaN</td>\n",
       "      <td>NaN</td>\n",
       "      <td>NaN</td>\n",
       "    </tr>\n",
       "    <tr>\n",
       "      <th>search_country</th>\n",
       "      <td>0.022384</td>\n",
       "      <td>-0.001915</td>\n",
       "      <td>1.000000</td>\n",
       "      <td>0.072432</td>\n",
       "      <td>-0.037934</td>\n",
       "      <td>-0.036925</td>\n",
       "      <td>-0.098124</td>\n",
       "      <td>NaN</td>\n",
       "      <td>NaN</td>\n",
       "      <td>NaN</td>\n",
       "    </tr>\n",
       "    <tr>\n",
       "      <th>search_marka</th>\n",
       "      <td>-0.071284</td>\n",
       "      <td>-0.055928</td>\n",
       "      <td>0.072432</td>\n",
       "      <td>1.000000</td>\n",
       "      <td>0.045894</td>\n",
       "      <td>-0.053708</td>\n",
       "      <td>0.038386</td>\n",
       "      <td>NaN</td>\n",
       "      <td>NaN</td>\n",
       "      <td>NaN</td>\n",
       "    </tr>\n",
       "    <tr>\n",
       "      <th>search_transmission</th>\n",
       "      <td>-0.046494</td>\n",
       "      <td>-0.049403</td>\n",
       "      <td>-0.037934</td>\n",
       "      <td>0.045894</td>\n",
       "      <td>1.000000</td>\n",
       "      <td>0.076887</td>\n",
       "      <td>0.042787</td>\n",
       "      <td>NaN</td>\n",
       "      <td>NaN</td>\n",
       "      <td>NaN</td>\n",
       "    </tr>\n",
       "    <tr>\n",
       "      <th>search_wheel</th>\n",
       "      <td>-0.020060</td>\n",
       "      <td>-0.033310</td>\n",
       "      <td>-0.036925</td>\n",
       "      <td>-0.053708</td>\n",
       "      <td>0.076887</td>\n",
       "      <td>1.000000</td>\n",
       "      <td>-0.021646</td>\n",
       "      <td>NaN</td>\n",
       "      <td>NaN</td>\n",
       "      <td>NaN</td>\n",
       "    </tr>\n",
       "    <tr>\n",
       "      <th>user_id</th>\n",
       "      <td>-0.017998</td>\n",
       "      <td>-0.036047</td>\n",
       "      <td>-0.098124</td>\n",
       "      <td>0.038386</td>\n",
       "      <td>0.042787</td>\n",
       "      <td>-0.021646</td>\n",
       "      <td>1.000000</td>\n",
       "      <td>NaN</td>\n",
       "      <td>NaN</td>\n",
       "      <td>NaN</td>\n",
       "    </tr>\n",
       "    <tr>\n",
       "      <th>search_volume</th>\n",
       "      <td>NaN</td>\n",
       "      <td>NaN</td>\n",
       "      <td>NaN</td>\n",
       "      <td>NaN</td>\n",
       "      <td>NaN</td>\n",
       "      <td>NaN</td>\n",
       "      <td>NaN</td>\n",
       "      <td>NaN</td>\n",
       "      <td>NaN</td>\n",
       "      <td>NaN</td>\n",
       "    </tr>\n",
       "    <tr>\n",
       "      <th>search_milleage</th>\n",
       "      <td>NaN</td>\n",
       "      <td>NaN</td>\n",
       "      <td>NaN</td>\n",
       "      <td>NaN</td>\n",
       "      <td>NaN</td>\n",
       "      <td>NaN</td>\n",
       "      <td>NaN</td>\n",
       "      <td>NaN</td>\n",
       "      <td>NaN</td>\n",
       "      <td>NaN</td>\n",
       "    </tr>\n",
       "    <tr>\n",
       "      <th>search_price</th>\n",
       "      <td>NaN</td>\n",
       "      <td>NaN</td>\n",
       "      <td>NaN</td>\n",
       "      <td>NaN</td>\n",
       "      <td>NaN</td>\n",
       "      <td>NaN</td>\n",
       "      <td>NaN</td>\n",
       "      <td>NaN</td>\n",
       "      <td>NaN</td>\n",
       "      <td>NaN</td>\n",
       "    </tr>\n",
       "  </tbody>\n",
       "</table>\n",
       "</div>"
      ],
      "text/plain": [
       "                     last_login  search_body  search_country  search_marka  \\\n",
       "last_login             1.000000    -0.115474        0.022384     -0.071284   \n",
       "search_body           -0.115474     1.000000       -0.001915     -0.055928   \n",
       "search_country         0.022384    -0.001915        1.000000      0.072432   \n",
       "search_marka          -0.071284    -0.055928        0.072432      1.000000   \n",
       "search_transmission   -0.046494    -0.049403       -0.037934      0.045894   \n",
       "search_wheel          -0.020060    -0.033310       -0.036925     -0.053708   \n",
       "user_id               -0.017998    -0.036047       -0.098124      0.038386   \n",
       "search_volume               NaN          NaN             NaN           NaN   \n",
       "search_milleage             NaN          NaN             NaN           NaN   \n",
       "search_price                NaN          NaN             NaN           NaN   \n",
       "\n",
       "                     search_transmission  search_wheel   user_id  \\\n",
       "last_login                     -0.046494     -0.020060 -0.017998   \n",
       "search_body                    -0.049403     -0.033310 -0.036047   \n",
       "search_country                 -0.037934     -0.036925 -0.098124   \n",
       "search_marka                    0.045894     -0.053708  0.038386   \n",
       "search_transmission             1.000000      0.076887  0.042787   \n",
       "search_wheel                    0.076887      1.000000 -0.021646   \n",
       "user_id                         0.042787     -0.021646  1.000000   \n",
       "search_volume                        NaN           NaN       NaN   \n",
       "search_milleage                      NaN           NaN       NaN   \n",
       "search_price                         NaN           NaN       NaN   \n",
       "\n",
       "                     search_volume  search_milleage  search_price  \n",
       "last_login                     NaN              NaN           NaN  \n",
       "search_body                    NaN              NaN           NaN  \n",
       "search_country                 NaN              NaN           NaN  \n",
       "search_marka                   NaN              NaN           NaN  \n",
       "search_transmission            NaN              NaN           NaN  \n",
       "search_wheel                   NaN              NaN           NaN  \n",
       "user_id                        NaN              NaN           NaN  \n",
       "search_volume                  NaN              NaN           NaN  \n",
       "search_milleage                NaN              NaN           NaN  \n",
       "search_price                   NaN              NaN           NaN  "
      ]
     },
     "execution_count": 16,
     "metadata": {},
     "output_type": "execute_result"
    }
   ],
   "source": [
    "dataframe.corr()"
   ]
  },
  {
   "cell_type": "code",
   "execution_count": 15,
   "metadata": {},
   "outputs": [
    {
     "data": {
      "text/plain": [
       "(299, 20)"
      ]
     },
     "execution_count": 15,
     "metadata": {},
     "output_type": "execute_result"
    }
   ],
   "source": [
    "dataframe.shape"
   ]
  }
 ],
 "metadata": {
  "kernelspec": {
   "display_name": "Python 3",
   "language": "python",
   "name": "python3"
  },
  "language_info": {
   "codemirror_mode": {
    "name": "ipython",
    "version": 3
   },
   "file_extension": ".py",
   "mimetype": "text/x-python",
   "name": "python",
   "nbconvert_exporter": "python",
   "pygments_lexer": "ipython3",
   "version": "3.6.2"
  }
 },
 "nbformat": 4,
 "nbformat_minor": 2
}
